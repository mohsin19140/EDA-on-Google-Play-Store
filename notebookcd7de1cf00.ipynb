{
 "cells": [
  {
   "cell_type": "code",
   "execution_count": 1,
   "id": "5119c994",
   "metadata": {
    "_cell_guid": "b1076dfc-b9ad-4769-8c92-a6c4dae69d19",
    "_uuid": "8f2839f25d086af736a60e9eeb907d3b93b6e0e5",
    "execution": {
     "iopub.execute_input": "2024-05-16T14:18:23.917433Z",
     "iopub.status.busy": "2024-05-16T14:18:23.916334Z",
     "iopub.status.idle": "2024-05-16T14:18:25.094654Z",
     "shell.execute_reply": "2024-05-16T14:18:25.093099Z"
    },
    "papermill": {
     "duration": 1.208734,
     "end_time": "2024-05-16T14:18:25.098319",
     "exception": false,
     "start_time": "2024-05-16T14:18:23.889585",
     "status": "completed"
    },
    "tags": []
   },
   "outputs": [
    {
     "name": "stdout",
     "output_type": "stream",
     "text": [
      "/kaggle/input/google-play-store-eda/data.csv\n"
     ]
    }
   ],
   "source": [
    "# This Python 3 environment comes with many helpful analytics libraries installed\n",
    "# It is defined by the kaggle/python Docker image: https://github.com/kaggle/docker-python\n",
    "# For example, here's several helpful packages to load\n",
    "\n",
    "import numpy as np # linear algebra\n",
    "import pandas as pd # data processing, CSV file I/O (e.g. pd.read_csv)\n",
    "\n",
    "# Input data files are available in the read-only \"../input/\" directory\n",
    "# For example, running this (by clicking run or pressing Shift+Enter) will list all files under the input directory\n",
    "\n",
    "import os\n",
    "for dirname, _, filenames in os.walk('/kaggle/input'):\n",
    "    for filename in filenames:\n",
    "        print(os.path.join(dirname, filename))\n",
    "\n",
    "# You can write up to 20GB to the current directory (/kaggle/working/) that gets preserved as output when you create a version using \"Save & Run All\" \n",
    "# You can also write temporary files to /kaggle/temp/, but they won't be saved outside of the current session"
   ]
  },
  {
   "cell_type": "markdown",
   "id": "3d377c32",
   "metadata": {
    "papermill": {
     "duration": 0.026446,
     "end_time": "2024-05-16T14:18:25.149797",
     "exception": false,
     "start_time": "2024-05-16T14:18:25.123351",
     "status": "completed"
    },
    "tags": []
   },
   "source": [
    "## Google App Store EDA "
   ]
  },
  {
   "cell_type": "markdown",
   "id": "a60ddd0a",
   "metadata": {
    "papermill": {
     "duration": 0.024396,
     "end_time": "2024-05-16T14:18:25.199973",
     "exception": false,
     "start_time": "2024-05-16T14:18:25.175577",
     "status": "completed"
    },
    "tags": []
   },
   "source": [
    "# About Dataset"
   ]
  },
  {
   "cell_type": "markdown",
   "id": "f33dbd6f",
   "metadata": {
    "papermill": {
     "duration": 0.025105,
     "end_time": "2024-05-16T14:18:25.250373",
     "exception": false,
     "start_time": "2024-05-16T14:18:25.225268",
     "status": "completed"
    },
    "tags": []
   },
   "source": [
    " # Description \n",
    "   The Data Set was downloaded from Kaggle, from the following link\n",
    "\n",
    "1- Context: \n",
    "While many public datasets (on Kaggle and the like) provide Apple App Store data, there are not many counterpart datasets available for Google Play Store apps anywhere on the web. On digging deeper, I found out that iTunes App Store page deploys a nicely indexed appendix-like structure to allow for simple and easy web scraping. On the other hand, Google Play Store uses sophisticated modern-day techniques (like dynamic page load) using JQuery making scraping more challenging.\n",
    "\n",
    "2- Content: \n",
    "Each app (row) has values for catergory, rating, size, and more.\n",
    "\n",
    "3- Acknowledgements: \n",
    "This information is scraped from the Google Play Store. This app information would not be available without it.\n",
    "\n",
    "4- Inspiration:  The Play Store apps data has enormous potential to drive app-making businesses to success. Actionable insights can be drawn for developers to work on and capture the Android market!"
   ]
  },
  {
   "cell_type": "markdown",
   "id": "839b3ceb",
   "metadata": {
    "papermill": {
     "duration": 0.024836,
     "end_time": "2024-05-16T14:18:25.299886",
     "exception": false,
     "start_time": "2024-05-16T14:18:25.275050",
     "status": "completed"
    },
    "tags": []
   },
   "source": [
    "# Import Libraries"
   ]
  },
  {
   "cell_type": "code",
   "execution_count": 2,
   "id": "76e9fc6e",
   "metadata": {
    "execution": {
     "iopub.execute_input": "2024-05-16T14:18:25.352906Z",
     "iopub.status.busy": "2024-05-16T14:18:25.351972Z",
     "iopub.status.idle": "2024-05-16T14:18:27.093671Z",
     "shell.execute_reply": "2024-05-16T14:18:27.092390Z"
    },
    "papermill": {
     "duration": 1.771402,
     "end_time": "2024-05-16T14:18:27.096691",
     "exception": false,
     "start_time": "2024-05-16T14:18:25.325289",
     "status": "completed"
    },
    "tags": []
   },
   "outputs": [],
   "source": [
    "import pandas as pd\n",
    "import numpy as np\n",
    "import matplotlib.pyplot as plt\n",
    "import seaborn as sns\n",
    "%matplotlib inline"
   ]
  },
  {
   "cell_type": "markdown",
   "id": "33f9926a",
   "metadata": {
    "papermill": {
     "duration": 0.024325,
     "end_time": "2024-05-16T14:18:27.145690",
     "exception": false,
     "start_time": "2024-05-16T14:18:27.121365",
     "status": "completed"
    },
    "tags": []
   },
   "source": [
    "# Data Loading and Cleaning"
   ]
  },
  {
   "cell_type": "markdown",
   "id": "ad119c40",
   "metadata": {
    "papermill": {
     "duration": 0.025016,
     "end_time": "2024-05-16T14:18:27.195932",
     "exception": false,
     "start_time": "2024-05-16T14:18:27.170916",
     "status": "completed"
    },
    "tags": []
   },
   "source": [
    "- Load the csv file with the pandas\n",
    "\n",
    "- creating the dataframe and understanding the data present in the dataset using pandas\n",
    "\n",
    "- Dealing with the missing data, outliers and the incorrect records"
   ]
  },
  {
   "cell_type": "markdown",
   "id": "7929f075",
   "metadata": {
    "papermill": {
     "duration": 0.024559,
     "end_time": "2024-05-16T14:18:27.246378",
     "exception": false,
     "start_time": "2024-05-16T14:18:27.221819",
     "status": "completed"
    },
    "tags": []
   },
   "source": [
    "- Load Csv File"
   ]
  },
  {
   "cell_type": "code",
   "execution_count": 3,
   "id": "703228ca",
   "metadata": {
    "execution": {
     "iopub.execute_input": "2024-05-16T14:18:27.297422Z",
     "iopub.status.busy": "2024-05-16T14:18:27.297011Z",
     "iopub.status.idle": "2024-05-16T14:18:27.397371Z",
     "shell.execute_reply": "2024-05-16T14:18:27.396117Z"
    },
    "papermill": {
     "duration": 0.129427,
     "end_time": "2024-05-16T14:18:27.400507",
     "exception": false,
     "start_time": "2024-05-16T14:18:27.271080",
     "status": "completed"
    },
    "tags": []
   },
   "outputs": [],
   "source": [
    "df = pd.read_csv('/kaggle/input/google-play-store-eda/data.csv')"
   ]
  },
  {
   "cell_type": "markdown",
   "id": "71f96dc3",
   "metadata": {
    "papermill": {
     "duration": 0.024572,
     "end_time": "2024-05-16T14:18:27.450258",
     "exception": false,
     "start_time": "2024-05-16T14:18:27.425686",
     "status": "completed"
    },
    "tags": []
   },
   "source": [
    "- Look on top (5) rows of the data"
   ]
  },
  {
   "cell_type": "code",
   "execution_count": 4,
   "id": "9881ccb0",
   "metadata": {
    "execution": {
     "iopub.execute_input": "2024-05-16T14:18:27.502970Z",
     "iopub.status.busy": "2024-05-16T14:18:27.502569Z",
     "iopub.status.idle": "2024-05-16T14:18:27.537802Z",
     "shell.execute_reply": "2024-05-16T14:18:27.536466Z"
    },
    "papermill": {
     "duration": 0.065704,
     "end_time": "2024-05-16T14:18:27.540858",
     "exception": false,
     "start_time": "2024-05-16T14:18:27.475154",
     "status": "completed"
    },
    "tags": []
   },
   "outputs": [
    {
     "data": {
      "text/html": [
       "<div>\n",
       "<style scoped>\n",
       "    .dataframe tbody tr th:only-of-type {\n",
       "        vertical-align: middle;\n",
       "    }\n",
       "\n",
       "    .dataframe tbody tr th {\n",
       "        vertical-align: top;\n",
       "    }\n",
       "\n",
       "    .dataframe thead th {\n",
       "        text-align: right;\n",
       "    }\n",
       "</style>\n",
       "<table border=\"1\" class=\"dataframe\">\n",
       "  <thead>\n",
       "    <tr style=\"text-align: right;\">\n",
       "      <th></th>\n",
       "      <th>App</th>\n",
       "      <th>Category</th>\n",
       "      <th>Rating</th>\n",
       "      <th>Reviews</th>\n",
       "      <th>Size</th>\n",
       "      <th>Installs</th>\n",
       "      <th>Type</th>\n",
       "      <th>Price</th>\n",
       "      <th>Content Rating</th>\n",
       "      <th>Genres</th>\n",
       "      <th>Last Updated</th>\n",
       "      <th>Current Ver</th>\n",
       "      <th>Android Ver</th>\n",
       "      <th>Unnamed: 13</th>\n",
       "    </tr>\n",
       "  </thead>\n",
       "  <tbody>\n",
       "    <tr>\n",
       "      <th>0</th>\n",
       "      <td>Photo Editor &amp; Candy Camera &amp; Grid &amp; ScrapBook</td>\n",
       "      <td>ART_AND_DESIGN</td>\n",
       "      <td>4.1</td>\n",
       "      <td>159</td>\n",
       "      <td>19M</td>\n",
       "      <td>10,000+</td>\n",
       "      <td>Free</td>\n",
       "      <td>0</td>\n",
       "      <td>Everyone</td>\n",
       "      <td>Art &amp; Design</td>\n",
       "      <td>January 7, 2018</td>\n",
       "      <td>1.0.0</td>\n",
       "      <td>4.0.3 and up</td>\n",
       "      <td>NaN</td>\n",
       "    </tr>\n",
       "    <tr>\n",
       "      <th>1</th>\n",
       "      <td>Coloring book moana</td>\n",
       "      <td>ART_AND_DESIGN</td>\n",
       "      <td>3.9</td>\n",
       "      <td>967</td>\n",
       "      <td>14M</td>\n",
       "      <td>500,000+</td>\n",
       "      <td>Free</td>\n",
       "      <td>0</td>\n",
       "      <td>Everyone</td>\n",
       "      <td>Art &amp; Design;Pretend Play</td>\n",
       "      <td>January 15, 2018</td>\n",
       "      <td>2.0.0</td>\n",
       "      <td>4.0.3 and up</td>\n",
       "      <td>NaN</td>\n",
       "    </tr>\n",
       "    <tr>\n",
       "      <th>2</th>\n",
       "      <td>U Launcher Lite – FREE Live Cool Themes, Hide ...</td>\n",
       "      <td>ART_AND_DESIGN</td>\n",
       "      <td>4.7</td>\n",
       "      <td>87510</td>\n",
       "      <td>8.7M</td>\n",
       "      <td>5,000,000+</td>\n",
       "      <td>Free</td>\n",
       "      <td>0</td>\n",
       "      <td>Everyone</td>\n",
       "      <td>Art &amp; Design</td>\n",
       "      <td>August 1, 2018</td>\n",
       "      <td>1.2.4</td>\n",
       "      <td>4.0.3 and up</td>\n",
       "      <td>NaN</td>\n",
       "    </tr>\n",
       "    <tr>\n",
       "      <th>3</th>\n",
       "      <td>Sketch - Draw &amp; Paint</td>\n",
       "      <td>ART_AND_DESIGN</td>\n",
       "      <td>4.5</td>\n",
       "      <td>215644</td>\n",
       "      <td>25M</td>\n",
       "      <td>50,000,000+</td>\n",
       "      <td>Free</td>\n",
       "      <td>0</td>\n",
       "      <td>Teen</td>\n",
       "      <td>Art &amp; Design</td>\n",
       "      <td>June 8, 2018</td>\n",
       "      <td>Varies with device</td>\n",
       "      <td>4.2 and up</td>\n",
       "      <td>NaN</td>\n",
       "    </tr>\n",
       "    <tr>\n",
       "      <th>4</th>\n",
       "      <td>Pixel Draw - Number Art Coloring Book</td>\n",
       "      <td>ART_AND_DESIGN</td>\n",
       "      <td>4.3</td>\n",
       "      <td>967</td>\n",
       "      <td>2.8M</td>\n",
       "      <td>100,000+</td>\n",
       "      <td>Free</td>\n",
       "      <td>0</td>\n",
       "      <td>Everyone</td>\n",
       "      <td>Art &amp; Design;Creativity</td>\n",
       "      <td>June 20, 2018</td>\n",
       "      <td>1.1</td>\n",
       "      <td>4.4 and up</td>\n",
       "      <td>NaN</td>\n",
       "    </tr>\n",
       "  </tbody>\n",
       "</table>\n",
       "</div>"
      ],
      "text/plain": [
       "                                                 App        Category  Rating  \\\n",
       "0     Photo Editor & Candy Camera & Grid & ScrapBook  ART_AND_DESIGN     4.1   \n",
       "1                                Coloring book moana  ART_AND_DESIGN     3.9   \n",
       "2  U Launcher Lite – FREE Live Cool Themes, Hide ...  ART_AND_DESIGN     4.7   \n",
       "3                              Sketch - Draw & Paint  ART_AND_DESIGN     4.5   \n",
       "4              Pixel Draw - Number Art Coloring Book  ART_AND_DESIGN     4.3   \n",
       "\n",
       "   Reviews  Size     Installs  Type Price Content Rating  \\\n",
       "0      159   19M      10,000+  Free     0       Everyone   \n",
       "1      967   14M     500,000+  Free     0       Everyone   \n",
       "2    87510  8.7M   5,000,000+  Free     0       Everyone   \n",
       "3   215644   25M  50,000,000+  Free     0           Teen   \n",
       "4      967  2.8M     100,000+  Free     0       Everyone   \n",
       "\n",
       "                      Genres      Last Updated         Current Ver  \\\n",
       "0               Art & Design   January 7, 2018               1.0.0   \n",
       "1  Art & Design;Pretend Play  January 15, 2018               2.0.0   \n",
       "2               Art & Design    August 1, 2018               1.2.4   \n",
       "3               Art & Design      June 8, 2018  Varies with device   \n",
       "4    Art & Design;Creativity     June 20, 2018                 1.1   \n",
       "\n",
       "    Android Ver  Unnamed: 13  \n",
       "0  4.0.3 and up          NaN  \n",
       "1  4.0.3 and up          NaN  \n",
       "2  4.0.3 and up          NaN  \n",
       "3    4.2 and up          NaN  \n",
       "4    4.4 and up          NaN  "
      ]
     },
     "execution_count": 4,
     "metadata": {},
     "output_type": "execute_result"
    }
   ],
   "source": [
    "df.head(5)"
   ]
  },
  {
   "cell_type": "markdown",
   "id": "b7fab0a5",
   "metadata": {
    "papermill": {
     "duration": 0.026,
     "end_time": "2024-05-16T14:18:27.592453",
     "exception": false,
     "start_time": "2024-05-16T14:18:27.566453",
     "status": "completed"
    },
    "tags": []
   },
   "source": [
    "_ Remove Unnamed Columns "
   ]
  },
  {
   "cell_type": "code",
   "execution_count": 5,
   "id": "862543c9",
   "metadata": {
    "execution": {
     "iopub.execute_input": "2024-05-16T14:18:27.645494Z",
     "iopub.status.busy": "2024-05-16T14:18:27.645015Z",
     "iopub.status.idle": "2024-05-16T14:18:27.660076Z",
     "shell.execute_reply": "2024-05-16T14:18:27.659158Z"
    },
    "papermill": {
     "duration": 0.044636,
     "end_time": "2024-05-16T14:18:27.662747",
     "exception": false,
     "start_time": "2024-05-16T14:18:27.618111",
     "status": "completed"
    },
    "tags": []
   },
   "outputs": [],
   "source": [
    "df.drop(columns=['Unnamed: 13'], inplace=True)"
   ]
  },
  {
   "cell_type": "code",
   "execution_count": 6,
   "id": "ac3d00ea",
   "metadata": {
    "execution": {
     "iopub.execute_input": "2024-05-16T14:18:27.716062Z",
     "iopub.status.busy": "2024-05-16T14:18:27.715428Z",
     "iopub.status.idle": "2024-05-16T14:18:27.734870Z",
     "shell.execute_reply": "2024-05-16T14:18:27.733428Z"
    },
    "papermill": {
     "duration": 0.048725,
     "end_time": "2024-05-16T14:18:27.737428",
     "exception": false,
     "start_time": "2024-05-16T14:18:27.688703",
     "status": "completed"
    },
    "tags": []
   },
   "outputs": [
    {
     "data": {
      "text/html": [
       "<div>\n",
       "<style scoped>\n",
       "    .dataframe tbody tr th:only-of-type {\n",
       "        vertical-align: middle;\n",
       "    }\n",
       "\n",
       "    .dataframe tbody tr th {\n",
       "        vertical-align: top;\n",
       "    }\n",
       "\n",
       "    .dataframe thead th {\n",
       "        text-align: right;\n",
       "    }\n",
       "</style>\n",
       "<table border=\"1\" class=\"dataframe\">\n",
       "  <thead>\n",
       "    <tr style=\"text-align: right;\">\n",
       "      <th></th>\n",
       "      <th>App</th>\n",
       "      <th>Category</th>\n",
       "      <th>Rating</th>\n",
       "      <th>Reviews</th>\n",
       "      <th>Size</th>\n",
       "      <th>Installs</th>\n",
       "      <th>Type</th>\n",
       "      <th>Price</th>\n",
       "      <th>Content Rating</th>\n",
       "      <th>Genres</th>\n",
       "      <th>Last Updated</th>\n",
       "      <th>Current Ver</th>\n",
       "      <th>Android Ver</th>\n",
       "    </tr>\n",
       "  </thead>\n",
       "  <tbody>\n",
       "    <tr>\n",
       "      <th>0</th>\n",
       "      <td>Photo Editor &amp; Candy Camera &amp; Grid &amp; ScrapBook</td>\n",
       "      <td>ART_AND_DESIGN</td>\n",
       "      <td>4.1</td>\n",
       "      <td>159</td>\n",
       "      <td>19M</td>\n",
       "      <td>10,000+</td>\n",
       "      <td>Free</td>\n",
       "      <td>0</td>\n",
       "      <td>Everyone</td>\n",
       "      <td>Art &amp; Design</td>\n",
       "      <td>January 7, 2018</td>\n",
       "      <td>1.0.0</td>\n",
       "      <td>4.0.3 and up</td>\n",
       "    </tr>\n",
       "    <tr>\n",
       "      <th>1</th>\n",
       "      <td>Coloring book moana</td>\n",
       "      <td>ART_AND_DESIGN</td>\n",
       "      <td>3.9</td>\n",
       "      <td>967</td>\n",
       "      <td>14M</td>\n",
       "      <td>500,000+</td>\n",
       "      <td>Free</td>\n",
       "      <td>0</td>\n",
       "      <td>Everyone</td>\n",
       "      <td>Art &amp; Design;Pretend Play</td>\n",
       "      <td>January 15, 2018</td>\n",
       "      <td>2.0.0</td>\n",
       "      <td>4.0.3 and up</td>\n",
       "    </tr>\n",
       "    <tr>\n",
       "      <th>2</th>\n",
       "      <td>U Launcher Lite – FREE Live Cool Themes, Hide ...</td>\n",
       "      <td>ART_AND_DESIGN</td>\n",
       "      <td>4.7</td>\n",
       "      <td>87510</td>\n",
       "      <td>8.7M</td>\n",
       "      <td>5,000,000+</td>\n",
       "      <td>Free</td>\n",
       "      <td>0</td>\n",
       "      <td>Everyone</td>\n",
       "      <td>Art &amp; Design</td>\n",
       "      <td>August 1, 2018</td>\n",
       "      <td>1.2.4</td>\n",
       "      <td>4.0.3 and up</td>\n",
       "    </tr>\n",
       "    <tr>\n",
       "      <th>3</th>\n",
       "      <td>Sketch - Draw &amp; Paint</td>\n",
       "      <td>ART_AND_DESIGN</td>\n",
       "      <td>4.5</td>\n",
       "      <td>215644</td>\n",
       "      <td>25M</td>\n",
       "      <td>50,000,000+</td>\n",
       "      <td>Free</td>\n",
       "      <td>0</td>\n",
       "      <td>Teen</td>\n",
       "      <td>Art &amp; Design</td>\n",
       "      <td>June 8, 2018</td>\n",
       "      <td>Varies with device</td>\n",
       "      <td>4.2 and up</td>\n",
       "    </tr>\n",
       "    <tr>\n",
       "      <th>4</th>\n",
       "      <td>Pixel Draw - Number Art Coloring Book</td>\n",
       "      <td>ART_AND_DESIGN</td>\n",
       "      <td>4.3</td>\n",
       "      <td>967</td>\n",
       "      <td>2.8M</td>\n",
       "      <td>100,000+</td>\n",
       "      <td>Free</td>\n",
       "      <td>0</td>\n",
       "      <td>Everyone</td>\n",
       "      <td>Art &amp; Design;Creativity</td>\n",
       "      <td>June 20, 2018</td>\n",
       "      <td>1.1</td>\n",
       "      <td>4.4 and up</td>\n",
       "    </tr>\n",
       "  </tbody>\n",
       "</table>\n",
       "</div>"
      ],
      "text/plain": [
       "                                                 App        Category  Rating  \\\n",
       "0     Photo Editor & Candy Camera & Grid & ScrapBook  ART_AND_DESIGN     4.1   \n",
       "1                                Coloring book moana  ART_AND_DESIGN     3.9   \n",
       "2  U Launcher Lite – FREE Live Cool Themes, Hide ...  ART_AND_DESIGN     4.7   \n",
       "3                              Sketch - Draw & Paint  ART_AND_DESIGN     4.5   \n",
       "4              Pixel Draw - Number Art Coloring Book  ART_AND_DESIGN     4.3   \n",
       "\n",
       "   Reviews  Size     Installs  Type Price Content Rating  \\\n",
       "0      159   19M      10,000+  Free     0       Everyone   \n",
       "1      967   14M     500,000+  Free     0       Everyone   \n",
       "2    87510  8.7M   5,000,000+  Free     0       Everyone   \n",
       "3   215644   25M  50,000,000+  Free     0           Teen   \n",
       "4      967  2.8M     100,000+  Free     0       Everyone   \n",
       "\n",
       "                      Genres      Last Updated         Current Ver  \\\n",
       "0               Art & Design   January 7, 2018               1.0.0   \n",
       "1  Art & Design;Pretend Play  January 15, 2018               2.0.0   \n",
       "2               Art & Design    August 1, 2018               1.2.4   \n",
       "3               Art & Design      June 8, 2018  Varies with device   \n",
       "4    Art & Design;Creativity     June 20, 2018                 1.1   \n",
       "\n",
       "    Android Ver  \n",
       "0  4.0.3 and up  \n",
       "1  4.0.3 and up  \n",
       "2  4.0.3 and up  \n",
       "3    4.2 and up  \n",
       "4    4.4 and up  "
      ]
     },
     "execution_count": 6,
     "metadata": {},
     "output_type": "execute_result"
    }
   ],
   "source": [
    "df.head(5)"
   ]
  },
  {
   "cell_type": "markdown",
   "id": "e022d27d",
   "metadata": {
    "papermill": {
     "duration": 0.025816,
     "end_time": "2024-05-16T14:18:27.788862",
     "exception": false,
     "start_time": "2024-05-16T14:18:27.763046",
     "status": "completed"
    },
    "tags": []
   },
   "source": [
    "Note: Some the output of notebook does not present the complete output, therefore we can increase the limit of columns view and row view by using these commands:"
   ]
  },
  {
   "cell_type": "markdown",
   "id": "8fe5db56",
   "metadata": {
    "papermill": {
     "duration": 0.0253,
     "end_time": "2024-05-16T14:18:27.905303",
     "exception": false,
     "start_time": "2024-05-16T14:18:27.880003",
     "status": "completed"
    },
    "tags": []
   },
   "source": [
    "- Important Things "
   ]
  },
  {
   "cell_type": "code",
   "execution_count": 7,
   "id": "88cdd7e0",
   "metadata": {
    "execution": {
     "iopub.execute_input": "2024-05-16T14:18:27.958496Z",
     "iopub.status.busy": "2024-05-16T14:18:27.958047Z",
     "iopub.status.idle": "2024-05-16T14:18:27.963952Z",
     "shell.execute_reply": "2024-05-16T14:18:27.962644Z"
    },
    "papermill": {
     "duration": 0.035699,
     "end_time": "2024-05-16T14:18:27.966594",
     "exception": false,
     "start_time": "2024-05-16T14:18:27.930895",
     "status": "completed"
    },
    "tags": []
   },
   "outputs": [],
   "source": [
    "# Set option to be maximum for rows and columns\n",
    "pd.set_option('display.max_columns', None)\n",
    "pd.set_option('display.max_rows', None)\n",
    "# Hide warnings\n",
    "import warnings \n",
    "warnings.filterwarnings('ignore')"
   ]
  },
  {
   "cell_type": "markdown",
   "id": "1392ea15",
   "metadata": {
    "papermill": {
     "duration": 0.025528,
     "end_time": "2024-05-16T14:18:28.017789",
     "exception": false,
     "start_time": "2024-05-16T14:18:27.992261",
     "status": "completed"
    },
    "tags": []
   },
   "source": [
    "- let's see the exact column names which can be easily copied later on from Google Playstore Dataset"
   ]
  },
  {
   "cell_type": "code",
   "execution_count": 8,
   "id": "38241722",
   "metadata": {
    "execution": {
     "iopub.execute_input": "2024-05-16T14:18:28.071505Z",
     "iopub.status.busy": "2024-05-16T14:18:28.071080Z",
     "iopub.status.idle": "2024-05-16T14:18:28.077517Z",
     "shell.execute_reply": "2024-05-16T14:18:28.075724Z"
    },
    "papermill": {
     "duration": 0.038266,
     "end_time": "2024-05-16T14:18:28.082119",
     "exception": false,
     "start_time": "2024-05-16T14:18:28.043853",
     "status": "completed"
    },
    "tags": []
   },
   "outputs": [
    {
     "name": "stdout",
     "output_type": "stream",
     "text": [
      "The name of co;umns in this datset are following: Index(['App', 'Category', 'Rating', 'Reviews', 'Size', 'Installs', 'Type',\n",
      "       'Price', 'Content Rating', 'Genres', 'Last Updated', 'Current Ver',\n",
      "       'Android Ver'],\n",
      "      dtype='object')\n"
     ]
    }
   ],
   "source": [
    "print(f\"The name of co;umns in this datset are following: {df.columns}\")"
   ]
  },
  {
   "cell_type": "code",
   "execution_count": 9,
   "id": "64d8e678",
   "metadata": {
    "execution": {
     "iopub.execute_input": "2024-05-16T14:18:28.140133Z",
     "iopub.status.busy": "2024-05-16T14:18:28.138965Z",
     "iopub.status.idle": "2024-05-16T14:18:28.145554Z",
     "shell.execute_reply": "2024-05-16T14:18:28.144162Z"
    },
    "papermill": {
     "duration": 0.037197,
     "end_time": "2024-05-16T14:18:28.148023",
     "exception": false,
     "start_time": "2024-05-16T14:18:28.110826",
     "status": "completed"
    },
    "tags": []
   },
   "outputs": [
    {
     "name": "stdout",
     "output_type": "stream",
     "text": [
      "The Numbers of Rows are 10841, and Columns are 13.\n"
     ]
    }
   ],
   "source": [
    "print(f\"The Numbers of Rows are {df.shape[0]}, and Columns are {df.shape[1]}.\")"
   ]
  },
  {
   "cell_type": "markdown",
   "id": "64cdd8c5",
   "metadata": {
    "papermill": {
     "duration": 0.027083,
     "end_time": "2024-05-16T14:18:28.202589",
     "exception": false,
     "start_time": "2024-05-16T14:18:28.175506",
     "status": "completed"
    },
    "tags": []
   },
   "source": [
    "- Let's have a look on the shape of the dataset"
   ]
  },
  {
   "cell_type": "code",
   "execution_count": 10,
   "id": "38337a61",
   "metadata": {
    "execution": {
     "iopub.execute_input": "2024-05-16T14:18:28.258953Z",
     "iopub.status.busy": "2024-05-16T14:18:28.258535Z",
     "iopub.status.idle": "2024-05-16T14:18:28.265890Z",
     "shell.execute_reply": "2024-05-16T14:18:28.264638Z"
    },
    "papermill": {
     "duration": 0.039196,
     "end_time": "2024-05-16T14:18:28.268517",
     "exception": false,
     "start_time": "2024-05-16T14:18:28.229321",
     "status": "completed"
    },
    "tags": []
   },
   "outputs": [
    {
     "data": {
      "text/plain": [
       "(10841, 13)"
      ]
     },
     "execution_count": 10,
     "metadata": {},
     "output_type": "execute_result"
    }
   ],
   "source": [
    "df.shape"
   ]
  },
  {
   "cell_type": "markdown",
   "id": "ac02cb42",
   "metadata": {
    "papermill": {
     "duration": 0.025915,
     "end_time": "2024-05-16T14:18:28.321212",
     "exception": false,
     "start_time": "2024-05-16T14:18:28.295297",
     "status": "completed"
    },
    "tags": []
   },
   "source": [
    "- Not enough, let's have a look on the columns and their data types using detailed info function"
   ]
  },
  {
   "cell_type": "code",
   "execution_count": 11,
   "id": "0b09dee8",
   "metadata": {
    "execution": {
     "iopub.execute_input": "2024-05-16T14:18:28.375994Z",
     "iopub.status.busy": "2024-05-16T14:18:28.375557Z",
     "iopub.status.idle": "2024-05-16T14:18:28.416354Z",
     "shell.execute_reply": "2024-05-16T14:18:28.415124Z"
    },
    "papermill": {
     "duration": 0.070908,
     "end_time": "2024-05-16T14:18:28.418926",
     "exception": false,
     "start_time": "2024-05-16T14:18:28.348018",
     "status": "completed"
    },
    "tags": []
   },
   "outputs": [
    {
     "name": "stdout",
     "output_type": "stream",
     "text": [
      "<class 'pandas.core.frame.DataFrame'>\n",
      "RangeIndex: 10841 entries, 0 to 10840\n",
      "Data columns (total 13 columns):\n",
      " #   Column          Non-Null Count  Dtype  \n",
      "---  ------          --------------  -----  \n",
      " 0   App             10841 non-null  object \n",
      " 1   Category        10840 non-null  object \n",
      " 2   Rating          9367 non-null   float64\n",
      " 3   Reviews         10841 non-null  int64  \n",
      " 4   Size            10841 non-null  object \n",
      " 5   Installs        10841 non-null  object \n",
      " 6   Type            10840 non-null  object \n",
      " 7   Price           10841 non-null  object \n",
      " 8   Content Rating  10841 non-null  object \n",
      " 9   Genres          10840 non-null  object \n",
      " 10  Last Updated    10841 non-null  object \n",
      " 11  Current Ver     10833 non-null  object \n",
      " 12  Android Ver     10839 non-null  object \n",
      "dtypes: float64(1), int64(1), object(11)\n",
      "memory usage: 1.1+ MB\n"
     ]
    }
   ],
   "source": [
    "df.info()"
   ]
  },
  {
   "cell_type": "markdown",
   "id": "58bacb06",
   "metadata": {
    "papermill": {
     "duration": 0.025855,
     "end_time": "2024-05-16T14:18:28.470794",
     "exception": false,
     "start_time": "2024-05-16T14:18:28.444939",
     "status": "completed"
    },
    "tags": []
   },
   "source": [
    "# Observation:\n",
    "1. There are 10841 rows and 13 columns in the dataset\n",
    "2. The columns are of different data types\n",
    "3. The columns in the datasets are:\n",
    "  - 'App', 'Category', 'Rating', 'Reviews', 'Size', 'Installs', 'Type',   'Price', 'Content Rating',     'Genres', 'Last Updated', 'Current Ver',   'Android Ver'\n",
    "4. There are some missing values in the dataset which we will read in details and deal later on in the notebook.\n",
    "5. There are some columns which are of object data type but they should be of numeric data type, we will convert them later on in the notebook.\n",
    "  - 'Size', 'Installs', 'Price'"
   ]
  },
  {
   "cell_type": "code",
   "execution_count": 12,
   "id": "f520c008",
   "metadata": {
    "execution": {
     "iopub.execute_input": "2024-05-16T14:18:28.530147Z",
     "iopub.status.busy": "2024-05-16T14:18:28.529481Z",
     "iopub.status.idle": "2024-05-16T14:18:28.554832Z",
     "shell.execute_reply": "2024-05-16T14:18:28.553414Z"
    },
    "papermill": {
     "duration": 0.05811,
     "end_time": "2024-05-16T14:18:28.557848",
     "exception": false,
     "start_time": "2024-05-16T14:18:28.499738",
     "status": "completed"
    },
    "tags": []
   },
   "outputs": [
    {
     "data": {
      "text/html": [
       "<div>\n",
       "<style scoped>\n",
       "    .dataframe tbody tr th:only-of-type {\n",
       "        vertical-align: middle;\n",
       "    }\n",
       "\n",
       "    .dataframe tbody tr th {\n",
       "        vertical-align: top;\n",
       "    }\n",
       "\n",
       "    .dataframe thead th {\n",
       "        text-align: right;\n",
       "    }\n",
       "</style>\n",
       "<table border=\"1\" class=\"dataframe\">\n",
       "  <thead>\n",
       "    <tr style=\"text-align: right;\">\n",
       "      <th></th>\n",
       "      <th>Rating</th>\n",
       "      <th>Reviews</th>\n",
       "    </tr>\n",
       "  </thead>\n",
       "  <tbody>\n",
       "    <tr>\n",
       "      <th>count</th>\n",
       "      <td>9367.000000</td>\n",
       "      <td>1.084100e+04</td>\n",
       "    </tr>\n",
       "    <tr>\n",
       "      <th>mean</th>\n",
       "      <td>4.191513</td>\n",
       "      <td>4.441119e+05</td>\n",
       "    </tr>\n",
       "    <tr>\n",
       "      <th>std</th>\n",
       "      <td>0.515735</td>\n",
       "      <td>2.927629e+06</td>\n",
       "    </tr>\n",
       "    <tr>\n",
       "      <th>min</th>\n",
       "      <td>1.000000</td>\n",
       "      <td>0.000000e+00</td>\n",
       "    </tr>\n",
       "    <tr>\n",
       "      <th>25%</th>\n",
       "      <td>4.000000</td>\n",
       "      <td>3.800000e+01</td>\n",
       "    </tr>\n",
       "    <tr>\n",
       "      <th>50%</th>\n",
       "      <td>4.300000</td>\n",
       "      <td>2.094000e+03</td>\n",
       "    </tr>\n",
       "    <tr>\n",
       "      <th>75%</th>\n",
       "      <td>4.500000</td>\n",
       "      <td>5.476800e+04</td>\n",
       "    </tr>\n",
       "    <tr>\n",
       "      <th>max</th>\n",
       "      <td>5.000000</td>\n",
       "      <td>7.815831e+07</td>\n",
       "    </tr>\n",
       "  </tbody>\n",
       "</table>\n",
       "</div>"
      ],
      "text/plain": [
       "            Rating       Reviews\n",
       "count  9367.000000  1.084100e+04\n",
       "mean      4.191513  4.441119e+05\n",
       "std       0.515735  2.927629e+06\n",
       "min       1.000000  0.000000e+00\n",
       "25%       4.000000  3.800000e+01\n",
       "50%       4.300000  2.094000e+03\n",
       "75%       4.500000  5.476800e+04\n",
       "max       5.000000  7.815831e+07"
      ]
     },
     "execution_count": 12,
     "metadata": {},
     "output_type": "execute_result"
    }
   ],
   "source": [
    "df.describe()"
   ]
  },
  {
   "cell_type": "markdown",
   "id": "87791a8c",
   "metadata": {
    "papermill": {
     "duration": 0.027024,
     "end_time": "2024-05-16T14:18:28.611499",
     "exception": false,
     "start_time": "2024-05-16T14:18:28.584475",
     "status": "completed"
    },
    "tags": []
   },
   "source": [
    "# Observation:\n",
    "- We have only 2 columns as numeric data type, rest all are object data type (according to python), but we can see that 'Size', 'Installs', 'Price' are also numeric, we must convert them to numeric data type in data wrangling process"
   ]
  },
  {
   "cell_type": "markdown",
   "id": "10a1b450",
   "metadata": {
    "papermill": {
     "duration": 0.026929,
     "end_time": "2024-05-16T14:18:28.665077",
     "exception": false,
     "start_time": "2024-05-16T14:18:28.638148",
     "status": "completed"
    },
    "tags": []
   },
   "source": [
    "- Let's clean the Size column"
   ]
  },
  {
   "cell_type": "code",
   "execution_count": 13,
   "id": "97088615",
   "metadata": {
    "execution": {
     "iopub.execute_input": "2024-05-16T14:18:28.722456Z",
     "iopub.status.busy": "2024-05-16T14:18:28.721262Z",
     "iopub.status.idle": "2024-05-16T14:18:28.731146Z",
     "shell.execute_reply": "2024-05-16T14:18:28.729955Z"
    },
    "papermill": {
     "duration": 0.040233,
     "end_time": "2024-05-16T14:18:28.733513",
     "exception": false,
     "start_time": "2024-05-16T14:18:28.693280",
     "status": "completed"
    },
    "tags": []
   },
   "outputs": [
    {
     "data": {
      "text/plain": [
       "0"
      ]
     },
     "execution_count": 13,
     "metadata": {},
     "output_type": "execute_result"
    }
   ],
   "source": [
    "# check for null values\n",
    "df['Size'].isnull().sum()"
   ]
  },
  {
   "cell_type": "markdown",
   "id": "ac24c689",
   "metadata": {
    "papermill": {
     "duration": 0.026455,
     "end_time": "2024-05-16T14:18:28.787692",
     "exception": false,
     "start_time": "2024-05-16T14:18:28.761237",
     "status": "completed"
    },
    "tags": []
   },
   "source": [
    "- No null values, we are good to go"
   ]
  },
  {
   "cell_type": "code",
   "execution_count": 14,
   "id": "103d8457",
   "metadata": {
    "execution": {
     "iopub.execute_input": "2024-05-16T14:18:28.843440Z",
     "iopub.status.busy": "2024-05-16T14:18:28.842990Z",
     "iopub.status.idle": "2024-05-16T14:18:28.852924Z",
     "shell.execute_reply": "2024-05-16T14:18:28.852041Z"
    },
    "papermill": {
     "duration": 0.04034,
     "end_time": "2024-05-16T14:18:28.855206",
     "exception": false,
     "start_time": "2024-05-16T14:18:28.814866",
     "status": "completed"
    },
    "tags": []
   },
   "outputs": [
    {
     "data": {
      "text/plain": [
       "array(['19M', '14M', '8.7M', '25M', '2.8M', '5.6M', '29M', '33M', '3.1M',\n",
       "       '28M', '12M', '20M', '21M', '37M', '2.7M', '5.5M', '17M', '39M',\n",
       "       '31M', '4.2M', '7.0M', '23M', '6.0M', '6.1M', '4.6M', '9.2M',\n",
       "       '5.2M', '11M', '24M', 'Varies with device', '9.4M', '15M', '10M',\n",
       "       '1.2M', '26M', '8.0M', '7.9M', '56M', '57M', '35M', '54M', '201k',\n",
       "       '3.6M', '5.7M', '8.6M', '2.4M', '27M', '2.5M', '16M', '3.4M',\n",
       "       '8.9M', '3.9M', '2.9M', '38M', '32M', '5.4M', '18M', '1.1M',\n",
       "       '2.2M', '4.5M', '9.8M', '52M', '9.0M', '6.7M', '30M', '2.6M',\n",
       "       '7.1M', '3.7M', '22M', '7.4M', '6.4M', '3.2M', '8.2M', '9.9M',\n",
       "       '4.9M', '9.5M', '5.0M', '5.9M', '13M', '73M', '6.8M', '3.5M',\n",
       "       '4.0M', '2.3M', '7.2M', '2.1M', '42M', '7.3M', '9.1M', '55M',\n",
       "       '23k', '6.5M', '1.5M', '7.5M', '51M', '41M', '48M', '8.5M', '46M',\n",
       "       '8.3M', '4.3M', '4.7M', '3.3M', '40M', '7.8M', '8.8M', '6.6M',\n",
       "       '5.1M', '61M', '66M', '79k', '8.4M', '118k', '44M', '695k', '1.6M',\n",
       "       '6.2M', '18k', '53M', '1.4M', '3.0M', '5.8M', '3.8M', '9.6M',\n",
       "       '45M', '63M', '49M', '77M', '4.4M', '4.8M', '70M', '6.9M', '9.3M',\n",
       "       '10.0M', '8.1M', '36M', '84M', '97M', '2.0M', '1.9M', '1.8M',\n",
       "       '5.3M', '47M', '556k', '526k', '76M', '7.6M', '59M', '9.7M', '78M',\n",
       "       '72M', '43M', '7.7M', '6.3M', '334k', '34M', '93M', '65M', '79M',\n",
       "       '100M', '58M', '50M', '68M', '64M', '67M', '60M', '94M', '232k',\n",
       "       '99M', '624k', '95M', '8.5k', '41k', '292k', '11k', '80M', '1.7M',\n",
       "       '74M', '62M', '69M', '75M', '98M', '85M', '82M', '96M', '87M',\n",
       "       '71M', '86M', '91M', '81M', '92M', '83M', '88M', '704k', '862k',\n",
       "       '899k', '378k', '266k', '375k', '1.3M', '975k', '980k', '4.1M',\n",
       "       '89M', '696k', '544k', '525k', '920k', '779k', '853k', '720k',\n",
       "       '713k', '772k', '318k', '58k', '241k', '196k', '857k', '51k',\n",
       "       '953k', '865k', '251k', '930k', '540k', '313k', '746k', '203k',\n",
       "       '26k', '314k', '239k', '371k', '220k', '730k', '756k', '91k',\n",
       "       '293k', '17k', '74k', '14k', '317k', '78k', '924k', '902k', '818k',\n",
       "       '81k', '939k', '169k', '45k', '475k', '965k', '90M', '545k', '61k',\n",
       "       '283k', '655k', '714k', '93k', '872k', '121k', '322k', '1.0M',\n",
       "       '976k', '172k', '238k', '549k', '206k', '954k', '444k', '717k',\n",
       "       '210k', '609k', '308k', '705k', '306k', '904k', '473k', '175k',\n",
       "       '350k', '383k', '454k', '421k', '70k', '812k', '442k', '842k',\n",
       "       '417k', '412k', '459k', '478k', '335k', '782k', '721k', '430k',\n",
       "       '429k', '192k', '200k', '460k', '728k', '496k', '816k', '414k',\n",
       "       '506k', '887k', '613k', '243k', '569k', '778k', '683k', '592k',\n",
       "       '319k', '186k', '840k', '647k', '191k', '373k', '437k', '598k',\n",
       "       '716k', '585k', '982k', '222k', '219k', '55k', '948k', '323k',\n",
       "       '691k', '511k', '951k', '963k', '25k', '554k', '351k', '27k',\n",
       "       '82k', '208k', '913k', '514k', '551k', '29k', '103k', '898k',\n",
       "       '743k', '116k', '153k', '209k', '353k', '499k', '173k', '597k',\n",
       "       '809k', '122k', '411k', '400k', '801k', '787k', '237k', '50k',\n",
       "       '643k', '986k', '97k', '516k', '837k', '780k', '961k', '269k',\n",
       "       '20k', '498k', '600k', '749k', '642k', '881k', '72k', '656k',\n",
       "       '601k', '221k', '228k', '108k', '940k', '176k', '33k', '663k',\n",
       "       '34k', '942k', '259k', '164k', '458k', '245k', '629k', '28k',\n",
       "       '288k', '775k', '785k', '636k', '916k', '994k', '309k', '485k',\n",
       "       '914k', '903k', '608k', '500k', '54k', '562k', '847k', '957k',\n",
       "       '688k', '811k', '270k', '48k', '329k', '523k', '921k', '874k',\n",
       "       '981k', '784k', '280k', '24k', '518k', '754k', '892k', '154k',\n",
       "       '860k', '364k', '387k', '626k', '161k', '879k', '39k', '970k',\n",
       "       '170k', '141k', '160k', '144k', '143k', '190k', '376k', '193k',\n",
       "       '246k', '73k', '658k', '992k', '253k', '420k', '404k', '470k',\n",
       "       '226k', '240k', '89k', '234k', '257k', '861k', '467k', '157k',\n",
       "       '44k', '676k', '67k', '552k', '885k', '1020k', '582k', '619k'],\n",
       "      dtype=object)"
      ]
     },
     "execution_count": 14,
     "metadata": {},
     "output_type": "execute_result"
    }
   ],
   "source": [
    "df[\"Size\"].unique()"
   ]
  },
  {
   "cell_type": "markdown",
   "id": "f25854ee",
   "metadata": {
    "papermill": {
     "duration": 0.027333,
     "end_time": "2024-05-16T14:18:28.911477",
     "exception": false,
     "start_time": "2024-05-16T14:18:28.884144",
     "status": "completed"
    },
    "tags": []
   },
   "source": [
    "- There are several uniques values in the Size column, we have to first make the unit into one common unit from M and K to bytes, and then remove the M and K from the values and convert them into numeric data type."
   ]
  },
  {
   "cell_type": "code",
   "execution_count": 15,
   "id": "bea17ee5",
   "metadata": {
    "execution": {
     "iopub.execute_input": "2024-05-16T14:18:28.970753Z",
     "iopub.status.busy": "2024-05-16T14:18:28.969873Z",
     "iopub.status.idle": "2024-05-16T14:18:28.987583Z",
     "shell.execute_reply": "2024-05-16T14:18:28.986584Z"
    },
    "papermill": {
     "duration": 0.051181,
     "end_time": "2024-05-16T14:18:28.990264",
     "exception": false,
     "start_time": "2024-05-16T14:18:28.939083",
     "status": "completed"
    },
    "tags": []
   },
   "outputs": [
    {
     "data": {
      "text/plain": [
       "8830"
      ]
     },
     "execution_count": 15,
     "metadata": {},
     "output_type": "execute_result"
    }
   ],
   "source": [
    "# find the values having M in it\n",
    "df['Size'].loc[df['Size'].str.contains('M')].value_counts().sum()"
   ]
  },
  {
   "cell_type": "code",
   "execution_count": 16,
   "id": "4ae42af5",
   "metadata": {
    "execution": {
     "iopub.execute_input": "2024-05-16T14:18:29.048844Z",
     "iopub.status.busy": "2024-05-16T14:18:29.048048Z",
     "iopub.status.idle": "2024-05-16T14:18:29.062869Z",
     "shell.execute_reply": "2024-05-16T14:18:29.061921Z"
    },
    "papermill": {
     "duration": 0.047195,
     "end_time": "2024-05-16T14:18:29.065339",
     "exception": false,
     "start_time": "2024-05-16T14:18:29.018144",
     "status": "completed"
    },
    "tags": []
   },
   "outputs": [
    {
     "data": {
      "text/plain": [
       "316"
      ]
     },
     "execution_count": 16,
     "metadata": {},
     "output_type": "execute_result"
    }
   ],
   "source": [
    "# find the values having k in it\n",
    "df['Size'].loc[df['Size'].str.contains('k')].value_counts().sum()"
   ]
  },
  {
   "cell_type": "code",
   "execution_count": 17,
   "id": "e8b7c142",
   "metadata": {
    "execution": {
     "iopub.execute_input": "2024-05-16T14:18:29.123342Z",
     "iopub.status.busy": "2024-05-16T14:18:29.122655Z",
     "iopub.status.idle": "2024-05-16T14:18:29.138754Z",
     "shell.execute_reply": "2024-05-16T14:18:29.137362Z"
    },
    "papermill": {
     "duration": 0.048205,
     "end_time": "2024-05-16T14:18:29.141698",
     "exception": false,
     "start_time": "2024-05-16T14:18:29.093493",
     "status": "completed"
    },
    "tags": []
   },
   "outputs": [
    {
     "data": {
      "text/plain": [
       "1695"
      ]
     },
     "execution_count": 17,
     "metadata": {},
     "output_type": "execute_result"
    }
   ],
   "source": [
    "# find the values having Varies with device in it\n",
    "df['Size'].loc[df['Size'].str.contains('Varies with device')].value_counts().sum()"
   ]
  },
  {
   "cell_type": "markdown",
   "id": "f6df1306",
   "metadata": {
    "papermill": {
     "duration": 0.033143,
     "end_time": "2024-05-16T14:18:29.207807",
     "exception": false,
     "start_time": "2024-05-16T14:18:29.174664",
     "status": "completed"
    },
    "tags": []
   },
   "source": [
    "- We have 8830 values in M units\n",
    "- We have 316 values in k units\n",
    "- We have 1695 value in Varies with device"
   ]
  },
  {
   "cell_type": "markdown",
   "id": "1bf2e38c",
   "metadata": {
    "papermill": {
     "duration": 0.033384,
     "end_time": "2024-05-16T14:18:29.269935",
     "exception": false,
     "start_time": "2024-05-16T14:18:29.236551",
     "status": "completed"
    },
    "tags": []
   },
   "source": [
    "- Let's convert the M and K units into bytes and then remove the M and K from the values and convert them into numeric data type."
   ]
  },
  {
   "cell_type": "markdown",
   "id": "d4d53004",
   "metadata": {
    "papermill": {
     "duration": 0.037735,
     "end_time": "2024-05-16T14:18:29.347394",
     "exception": false,
     "start_time": "2024-05-16T14:18:29.309659",
     "status": "completed"
    },
    "tags": []
   },
   "source": [
    "- Check the legth of rows "
   ]
  },
  {
   "cell_type": "code",
   "execution_count": 18,
   "id": "fee30beb",
   "metadata": {
    "execution": {
     "iopub.execute_input": "2024-05-16T14:18:29.405502Z",
     "iopub.status.busy": "2024-05-16T14:18:29.404710Z",
     "iopub.status.idle": "2024-05-16T14:18:29.411262Z",
     "shell.execute_reply": "2024-05-16T14:18:29.409981Z"
    },
    "papermill": {
     "duration": 0.03796,
     "end_time": "2024-05-16T14:18:29.413765",
     "exception": false,
     "start_time": "2024-05-16T14:18:29.375805",
     "status": "completed"
    },
    "tags": []
   },
   "outputs": [
    {
     "data": {
      "text/plain": [
       "10841"
      ]
     },
     "execution_count": 18,
     "metadata": {},
     "output_type": "execute_result"
    }
   ],
   "source": [
    "len(df)"
   ]
  },
  {
   "cell_type": "markdown",
   "id": "08643951",
   "metadata": {
    "papermill": {
     "duration": 0.027243,
     "end_time": "2024-05-16T14:18:29.469351",
     "exception": false,
     "start_time": "2024-05-16T14:18:29.442108",
     "status": "completed"
    },
    "tags": []
   },
   "source": [
    "# Convert the size column to numeric \n",
    "by multiplying the values with 1024 if it has 'k' in it and 1024*1024 if it has 'M' in it"
   ]
  },
  {
   "cell_type": "code",
   "execution_count": 19,
   "id": "4526537e",
   "metadata": {
    "execution": {
     "iopub.execute_input": "2024-05-16T14:18:29.537641Z",
     "iopub.status.busy": "2024-05-16T14:18:29.536677Z",
     "iopub.status.idle": "2024-05-16T14:18:29.544222Z",
     "shell.execute_reply": "2024-05-16T14:18:29.543204Z"
    },
    "papermill": {
     "duration": 0.04498,
     "end_time": "2024-05-16T14:18:29.546918",
     "exception": false,
     "start_time": "2024-05-16T14:18:29.501938",
     "status": "completed"
    },
    "tags": []
   },
   "outputs": [],
   "source": [
    "# let's define a function\n",
    "\n",
    "def convert_size(Size):\n",
    "    if isinstance(Size,str):\n",
    "        if 'k' in Size:\n",
    "            return float(Size.replace('k', \"\")) * 1024\n",
    "        elif 'M' in Size:\n",
    "            return float(Size.replace('M', \"\")) * 1024 * 1024\n",
    "        elif 'Varies with device' in Size:\n",
    "            return np.nan\n",
    "    return Size "
   ]
  },
  {
   "cell_type": "code",
   "execution_count": 20,
   "id": "61a39ac9",
   "metadata": {
    "execution": {
     "iopub.execute_input": "2024-05-16T14:18:29.608081Z",
     "iopub.status.busy": "2024-05-16T14:18:29.607113Z",
     "iopub.status.idle": "2024-05-16T14:18:29.630132Z",
     "shell.execute_reply": "2024-05-16T14:18:29.628340Z"
    },
    "papermill": {
     "duration": 0.059153,
     "end_time": "2024-05-16T14:18:29.634007",
     "exception": false,
     "start_time": "2024-05-16T14:18:29.574854",
     "status": "completed"
    },
    "tags": []
   },
   "outputs": [],
   "source": [
    "df['Size'] = df['Size'].apply(convert_size)"
   ]
  },
  {
   "cell_type": "code",
   "execution_count": 21,
   "id": "4d82618d",
   "metadata": {
    "execution": {
     "iopub.execute_input": "2024-05-16T14:18:29.694021Z",
     "iopub.status.busy": "2024-05-16T14:18:29.693181Z",
     "iopub.status.idle": "2024-05-16T14:18:29.698832Z",
     "shell.execute_reply": "2024-05-16T14:18:29.697597Z"
    },
    "papermill": {
     "duration": 0.038864,
     "end_time": "2024-05-16T14:18:29.701804",
     "exception": false,
     "start_time": "2024-05-16T14:18:29.662940",
     "status": "completed"
    },
    "tags": []
   },
   "outputs": [],
   "source": [
    "# rename the column name 'Size' to 'Size_in_bytes'\n",
    "df.rename(columns={'Size': 'Size_in_bytes'}, inplace=True)"
   ]
  },
  {
   "cell_type": "code",
   "execution_count": 22,
   "id": "4f69e9cd",
   "metadata": {
    "execution": {
     "iopub.execute_input": "2024-05-16T14:18:29.760303Z",
     "iopub.status.busy": "2024-05-16T14:18:29.759644Z",
     "iopub.status.idle": "2024-05-16T14:18:29.772687Z",
     "shell.execute_reply": "2024-05-16T14:18:29.771773Z"
    },
    "papermill": {
     "duration": 0.045241,
     "end_time": "2024-05-16T14:18:29.775359",
     "exception": false,
     "start_time": "2024-05-16T14:18:29.730118",
     "status": "completed"
    },
    "tags": []
   },
   "outputs": [],
   "source": [
    "# making a new column called 'Size in Mb' which will have the size in MB\n",
    "df['Size_in_Mb'] = df['Size_in_bytes'].apply(lambda x: x/(1024*1024))"
   ]
  },
  {
   "cell_type": "markdown",
   "id": "2c4a2b1b",
   "metadata": {
    "papermill": {
     "duration": 0.028707,
     "end_time": "2024-05-16T14:18:29.831787",
     "exception": false,
     "start_time": "2024-05-16T14:18:29.803080",
     "status": "completed"
    },
    "tags": []
   },
   "source": [
    " - Now we have converted every value into bytes and removed the M and K from the values and converted them into numeric data type.\n",
    "- 'Varies with device' was a string value, therefore we intentionally converted them into null values, which we can fill later on according to our needs."
   ]
  },
  {
   "cell_type": "markdown",
   "id": "e12b89d0",
   "metadata": {
    "papermill": {
     "duration": 0.027282,
     "end_time": "2024-05-16T14:18:29.886675",
     "exception": false,
     "start_time": "2024-05-16T14:18:29.859393",
     "status": "completed"
    },
    "tags": []
   },
   "source": [
    "# Let's take care of Installs Column"
   ]
  },
  {
   "cell_type": "code",
   "execution_count": 23,
   "id": "c0971821",
   "metadata": {
    "execution": {
     "iopub.execute_input": "2024-05-16T14:18:29.959027Z",
     "iopub.status.busy": "2024-05-16T14:18:29.958161Z",
     "iopub.status.idle": "2024-05-16T14:18:29.967381Z",
     "shell.execute_reply": "2024-05-16T14:18:29.966110Z"
    },
    "papermill": {
     "duration": 0.05126,
     "end_time": "2024-05-16T14:18:29.970624",
     "exception": false,
     "start_time": "2024-05-16T14:18:29.919364",
     "status": "completed"
    },
    "tags": []
   },
   "outputs": [
    {
     "data": {
      "text/plain": [
       "array(['10,000+', '500,000+', '5,000,000+', '50,000,000+', '100,000+',\n",
       "       '50,000+', '1,000,000+', '10,000,000+', '5,000+', '100,000,000+',\n",
       "       '1,000,000,000+', '1,000+', '500,000,000+', '50+', '100+', '500+',\n",
       "       '10+', '1+', '5+', '0+', '0'], dtype=object)"
      ]
     },
     "execution_count": 23,
     "metadata": {},
     "output_type": "execute_result"
    }
   ],
   "source": [
    "df['Installs'].unique()"
   ]
  },
  {
   "cell_type": "code",
   "execution_count": 24,
   "id": "a627abe2",
   "metadata": {
    "execution": {
     "iopub.execute_input": "2024-05-16T14:18:30.036814Z",
     "iopub.status.busy": "2024-05-16T14:18:30.035985Z",
     "iopub.status.idle": "2024-05-16T14:18:30.049026Z",
     "shell.execute_reply": "2024-05-16T14:18:30.047783Z"
    },
    "papermill": {
     "duration": 0.045688,
     "end_time": "2024-05-16T14:18:30.051677",
     "exception": false,
     "start_time": "2024-05-16T14:18:30.005989",
     "status": "completed"
    },
    "tags": []
   },
   "outputs": [
    {
     "data": {
      "text/plain": [
       "Installs\n",
       "1,000,000+        1579\n",
       "10,000,000+       1252\n",
       "100,000+          1169\n",
       "10,000+           1054\n",
       "1,000+             908\n",
       "5,000,000+         752\n",
       "100+               719\n",
       "500,000+           539\n",
       "50,000+            479\n",
       "5,000+             477\n",
       "100,000,000+       409\n",
       "10+                386\n",
       "500+               330\n",
       "50,000,000+        289\n",
       "50+                205\n",
       "5+                  82\n",
       "500,000,000+        72\n",
       "1+                  67\n",
       "1,000,000,000+      58\n",
       "0+                  14\n",
       "0                    1\n",
       "Name: count, dtype: int64"
      ]
     },
     "execution_count": 24,
     "metadata": {},
     "output_type": "execute_result"
    }
   ],
   "source": [
    "df['Installs'].value_counts()"
   ]
  },
  {
   "cell_type": "code",
   "execution_count": 25,
   "id": "10852a4c",
   "metadata": {
    "execution": {
     "iopub.execute_input": "2024-05-16T14:18:30.109533Z",
     "iopub.status.busy": "2024-05-16T14:18:30.109080Z",
     "iopub.status.idle": "2024-05-16T14:18:30.127593Z",
     "shell.execute_reply": "2024-05-16T14:18:30.126483Z"
    },
    "papermill": {
     "duration": 0.050457,
     "end_time": "2024-05-16T14:18:30.130111",
     "exception": false,
     "start_time": "2024-05-16T14:18:30.079654",
     "status": "completed"
    },
    "tags": []
   },
   "outputs": [
    {
     "data": {
      "text/plain": [
       "10840"
      ]
     },
     "execution_count": 25,
     "metadata": {},
     "output_type": "execute_result"
    }
   ],
   "source": [
    "# find how many values has '+' in it\n",
    "df['Installs'].loc[df['Installs'].str.contains('\\+')].value_counts().sum()"
   ]
  },
  {
   "cell_type": "code",
   "execution_count": 26,
   "id": "03672f8a",
   "metadata": {
    "execution": {
     "iopub.execute_input": "2024-05-16T14:18:30.189329Z",
     "iopub.status.busy": "2024-05-16T14:18:30.188900Z",
     "iopub.status.idle": "2024-05-16T14:18:30.199558Z",
     "shell.execute_reply": "2024-05-16T14:18:30.198139Z"
    },
    "papermill": {
     "duration": 0.044267,
     "end_time": "2024-05-16T14:18:30.202537",
     "exception": false,
     "start_time": "2024-05-16T14:18:30.158270",
     "status": "completed"
    },
    "tags": []
   },
   "outputs": [
    {
     "data": {
      "text/plain": [
       "10841"
      ]
     },
     "execution_count": 26,
     "metadata": {},
     "output_type": "execute_result"
    }
   ],
   "source": [
    "# Total values in Installs column\n",
    "df['Installs'].value_counts().sum()"
   ]
  },
  {
   "cell_type": "markdown",
   "id": "b6df0b3a",
   "metadata": {
    "papermill": {
     "duration": 0.028781,
     "end_time": "2024-05-16T14:18:30.259909",
     "exception": false,
     "start_time": "2024-05-16T14:18:30.231128",
     "status": "completed"
    },
    "tags": []
   },
   "source": [
    "- The only problem I see here is the + sign in the values, let's remove them and convert the column - into numeric data type.\n",
    "- The total values in the Installs column are 10841 and there are no null values in the column.\n",
    "\n",
    "- However, one value 0 has no plus sign\n",
    "\n",
    "- Let's remove the plus sign + and , from the values and convert them into numeric data type"
   ]
  },
  {
   "cell_type": "code",
   "execution_count": 27,
   "id": "faf3420f",
   "metadata": {
    "execution": {
     "iopub.execute_input": "2024-05-16T14:18:30.319782Z",
     "iopub.status.busy": "2024-05-16T14:18:30.319333Z",
     "iopub.status.idle": "2024-05-16T14:18:30.354441Z",
     "shell.execute_reply": "2024-05-16T14:18:30.353229Z"
    },
    "papermill": {
     "duration": 0.067486,
     "end_time": "2024-05-16T14:18:30.357303",
     "exception": false,
     "start_time": "2024-05-16T14:18:30.289817",
     "status": "completed"
    },
    "tags": []
   },
   "outputs": [],
   "source": [
    "# remove the plus sign from install column and convert it to numeric\n",
    "df['Installs'] = df['Installs'].apply(lambda x: x.replace('+', '') if '+' in str(x) else x)\n",
    "# also remove the commas from the install column\n",
    "df['Installs'] = df['Installs'].apply(lambda x: x.replace(',', '') if ',' in str(x) else x)\n",
    "# convert the install column to numeric (integers because this is the number of installs/count)\n",
    "df['Installs'] = df['Installs'].apply(lambda x: int(x))"
   ]
  },
  {
   "cell_type": "markdown",
   "id": "2697e65e",
   "metadata": {
    "papermill": {
     "duration": 0.027976,
     "end_time": "2024-05-16T14:18:30.414447",
     "exception": false,
     "start_time": "2024-05-16T14:18:30.386471",
     "status": "completed"
    },
    "tags": []
   },
   "source": [
    "- Let's verify if the dtypes has been changes and the + and , sign has been removed"
   ]
  },
  {
   "cell_type": "code",
   "execution_count": 28,
   "id": "b2e3fbad",
   "metadata": {
    "execution": {
     "iopub.execute_input": "2024-05-16T14:18:30.473281Z",
     "iopub.status.busy": "2024-05-16T14:18:30.472841Z",
     "iopub.status.idle": "2024-05-16T14:18:30.495773Z",
     "shell.execute_reply": "2024-05-16T14:18:30.494473Z"
    },
    "papermill": {
     "duration": 0.055553,
     "end_time": "2024-05-16T14:18:30.498698",
     "exception": false,
     "start_time": "2024-05-16T14:18:30.443145",
     "status": "completed"
    },
    "tags": []
   },
   "outputs": [
    {
     "data": {
      "text/html": [
       "<div>\n",
       "<style scoped>\n",
       "    .dataframe tbody tr th:only-of-type {\n",
       "        vertical-align: middle;\n",
       "    }\n",
       "\n",
       "    .dataframe tbody tr th {\n",
       "        vertical-align: top;\n",
       "    }\n",
       "\n",
       "    .dataframe thead th {\n",
       "        text-align: right;\n",
       "    }\n",
       "</style>\n",
       "<table border=\"1\" class=\"dataframe\">\n",
       "  <thead>\n",
       "    <tr style=\"text-align: right;\">\n",
       "      <th></th>\n",
       "      <th>App</th>\n",
       "      <th>Category</th>\n",
       "      <th>Rating</th>\n",
       "      <th>Reviews</th>\n",
       "      <th>Size_in_bytes</th>\n",
       "      <th>Installs</th>\n",
       "      <th>Type</th>\n",
       "      <th>Price</th>\n",
       "      <th>Content Rating</th>\n",
       "      <th>Genres</th>\n",
       "      <th>Last Updated</th>\n",
       "      <th>Current Ver</th>\n",
       "      <th>Android Ver</th>\n",
       "      <th>Size_in_Mb</th>\n",
       "    </tr>\n",
       "  </thead>\n",
       "  <tbody>\n",
       "    <tr>\n",
       "      <th>0</th>\n",
       "      <td>Photo Editor &amp; Candy Camera &amp; Grid &amp; ScrapBook</td>\n",
       "      <td>ART_AND_DESIGN</td>\n",
       "      <td>4.1</td>\n",
       "      <td>159</td>\n",
       "      <td>19922944.0</td>\n",
       "      <td>10000</td>\n",
       "      <td>Free</td>\n",
       "      <td>0</td>\n",
       "      <td>Everyone</td>\n",
       "      <td>Art &amp; Design</td>\n",
       "      <td>January 7, 2018</td>\n",
       "      <td>1.0.0</td>\n",
       "      <td>4.0.3 and up</td>\n",
       "      <td>19.0</td>\n",
       "    </tr>\n",
       "    <tr>\n",
       "      <th>1</th>\n",
       "      <td>Coloring book moana</td>\n",
       "      <td>ART_AND_DESIGN</td>\n",
       "      <td>3.9</td>\n",
       "      <td>967</td>\n",
       "      <td>14680064.0</td>\n",
       "      <td>500000</td>\n",
       "      <td>Free</td>\n",
       "      <td>0</td>\n",
       "      <td>Everyone</td>\n",
       "      <td>Art &amp; Design;Pretend Play</td>\n",
       "      <td>January 15, 2018</td>\n",
       "      <td>2.0.0</td>\n",
       "      <td>4.0.3 and up</td>\n",
       "      <td>14.0</td>\n",
       "    </tr>\n",
       "    <tr>\n",
       "      <th>2</th>\n",
       "      <td>U Launcher Lite – FREE Live Cool Themes, Hide ...</td>\n",
       "      <td>ART_AND_DESIGN</td>\n",
       "      <td>4.7</td>\n",
       "      <td>87510</td>\n",
       "      <td>9122611.2</td>\n",
       "      <td>5000000</td>\n",
       "      <td>Free</td>\n",
       "      <td>0</td>\n",
       "      <td>Everyone</td>\n",
       "      <td>Art &amp; Design</td>\n",
       "      <td>August 1, 2018</td>\n",
       "      <td>1.2.4</td>\n",
       "      <td>4.0.3 and up</td>\n",
       "      <td>8.7</td>\n",
       "    </tr>\n",
       "    <tr>\n",
       "      <th>3</th>\n",
       "      <td>Sketch - Draw &amp; Paint</td>\n",
       "      <td>ART_AND_DESIGN</td>\n",
       "      <td>4.5</td>\n",
       "      <td>215644</td>\n",
       "      <td>26214400.0</td>\n",
       "      <td>50000000</td>\n",
       "      <td>Free</td>\n",
       "      <td>0</td>\n",
       "      <td>Teen</td>\n",
       "      <td>Art &amp; Design</td>\n",
       "      <td>June 8, 2018</td>\n",
       "      <td>Varies with device</td>\n",
       "      <td>4.2 and up</td>\n",
       "      <td>25.0</td>\n",
       "    </tr>\n",
       "    <tr>\n",
       "      <th>4</th>\n",
       "      <td>Pixel Draw - Number Art Coloring Book</td>\n",
       "      <td>ART_AND_DESIGN</td>\n",
       "      <td>4.3</td>\n",
       "      <td>967</td>\n",
       "      <td>2936012.8</td>\n",
       "      <td>100000</td>\n",
       "      <td>Free</td>\n",
       "      <td>0</td>\n",
       "      <td>Everyone</td>\n",
       "      <td>Art &amp; Design;Creativity</td>\n",
       "      <td>June 20, 2018</td>\n",
       "      <td>1.1</td>\n",
       "      <td>4.4 and up</td>\n",
       "      <td>2.8</td>\n",
       "    </tr>\n",
       "  </tbody>\n",
       "</table>\n",
       "</div>"
      ],
      "text/plain": [
       "                                                 App        Category  Rating  \\\n",
       "0     Photo Editor & Candy Camera & Grid & ScrapBook  ART_AND_DESIGN     4.1   \n",
       "1                                Coloring book moana  ART_AND_DESIGN     3.9   \n",
       "2  U Launcher Lite – FREE Live Cool Themes, Hide ...  ART_AND_DESIGN     4.7   \n",
       "3                              Sketch - Draw & Paint  ART_AND_DESIGN     4.5   \n",
       "4              Pixel Draw - Number Art Coloring Book  ART_AND_DESIGN     4.3   \n",
       "\n",
       "   Reviews  Size_in_bytes  Installs  Type Price Content Rating  \\\n",
       "0      159     19922944.0     10000  Free     0       Everyone   \n",
       "1      967     14680064.0    500000  Free     0       Everyone   \n",
       "2    87510      9122611.2   5000000  Free     0       Everyone   \n",
       "3   215644     26214400.0  50000000  Free     0           Teen   \n",
       "4      967      2936012.8    100000  Free     0       Everyone   \n",
       "\n",
       "                      Genres      Last Updated         Current Ver  \\\n",
       "0               Art & Design   January 7, 2018               1.0.0   \n",
       "1  Art & Design;Pretend Play  January 15, 2018               2.0.0   \n",
       "2               Art & Design    August 1, 2018               1.2.4   \n",
       "3               Art & Design      June 8, 2018  Varies with device   \n",
       "4    Art & Design;Creativity     June 20, 2018                 1.1   \n",
       "\n",
       "    Android Ver  Size_in_Mb  \n",
       "0  4.0.3 and up        19.0  \n",
       "1  4.0.3 and up        14.0  \n",
       "2  4.0.3 and up         8.7  \n",
       "3    4.2 and up        25.0  \n",
       "4    4.4 and up         2.8  "
      ]
     },
     "execution_count": 28,
     "metadata": {},
     "output_type": "execute_result"
    }
   ],
   "source": [
    "df.head()"
   ]
  },
  {
   "cell_type": "code",
   "execution_count": 29,
   "id": "aeb683e6",
   "metadata": {
    "execution": {
     "iopub.execute_input": "2024-05-16T14:18:30.559364Z",
     "iopub.status.busy": "2024-05-16T14:18:30.558531Z",
     "iopub.status.idle": "2024-05-16T14:18:30.567691Z",
     "shell.execute_reply": "2024-05-16T14:18:30.566427Z"
    },
    "papermill": {
     "duration": 0.042318,
     "end_time": "2024-05-16T14:18:30.570097",
     "exception": false,
     "start_time": "2024-05-16T14:18:30.527779",
     "status": "completed"
    },
    "tags": []
   },
   "outputs": [
    {
     "data": {
      "text/plain": [
       "dtype('int64')"
      ]
     },
     "execution_count": 29,
     "metadata": {},
     "output_type": "execute_result"
    }
   ],
   "source": [
    "df['Installs'].dtype # this will show the data type of the column"
   ]
  },
  {
   "cell_type": "markdown",
   "id": "9a5458ce",
   "metadata": {
    "papermill": {
     "duration": 0.030122,
     "end_time": "2024-05-16T14:18:30.629184",
     "exception": false,
     "start_time": "2024-05-16T14:18:30.599062",
     "status": "completed"
    },
    "tags": []
   },
   "source": [
    "- We can generate a new columns based on the installation values, which will be helpful in our analysis"
   ]
  },
  {
   "cell_type": "code",
   "execution_count": 30,
   "id": "2ec1f985",
   "metadata": {
    "execution": {
     "iopub.execute_input": "2024-05-16T14:18:30.691659Z",
     "iopub.status.busy": "2024-05-16T14:18:30.691163Z",
     "iopub.status.idle": "2024-05-16T14:18:30.700267Z",
     "shell.execute_reply": "2024-05-16T14:18:30.698985Z"
    },
    "papermill": {
     "duration": 0.042962,
     "end_time": "2024-05-16T14:18:30.703173",
     "exception": false,
     "start_time": "2024-05-16T14:18:30.660211",
     "status": "completed"
    },
    "tags": []
   },
   "outputs": [
    {
     "data": {
      "text/plain": [
       "1000000000"
      ]
     },
     "execution_count": 30,
     "metadata": {},
     "output_type": "execute_result"
    }
   ],
   "source": [
    "df['Installs'].max() # this will show the value counts of the column"
   ]
  },
  {
   "cell_type": "code",
   "execution_count": 31,
   "id": "8e2e741f",
   "metadata": {
    "execution": {
     "iopub.execute_input": "2024-05-16T14:18:30.765141Z",
     "iopub.status.busy": "2024-05-16T14:18:30.764296Z",
     "iopub.status.idle": "2024-05-16T14:18:30.776975Z",
     "shell.execute_reply": "2024-05-16T14:18:30.775766Z"
    },
    "papermill": {
     "duration": 0.046996,
     "end_time": "2024-05-16T14:18:30.780054",
     "exception": false,
     "start_time": "2024-05-16T14:18:30.733058",
     "status": "completed"
    },
    "tags": []
   },
   "outputs": [],
   "source": [
    "# making a new column called 'Installs_category' which will have the category of the installs\n",
    "bins = [-1, 0, 10, 1000, 10000, 100000, 1000000, 10000000, 10000000000]\n",
    "labels=['no', 'Very low', 'Low', 'Moderate', 'More than moderate', 'High', 'Very High', 'Top Notch']\n",
    "df['Installs_category'] = pd.cut(df['Installs'], bins=bins, labels=labels)"
   ]
  },
  {
   "cell_type": "code",
   "execution_count": 32,
   "id": "622a9a0b",
   "metadata": {
    "execution": {
     "iopub.execute_input": "2024-05-16T14:18:30.840972Z",
     "iopub.status.busy": "2024-05-16T14:18:30.840563Z",
     "iopub.status.idle": "2024-05-16T14:18:30.851455Z",
     "shell.execute_reply": "2024-05-16T14:18:30.850564Z"
    },
    "papermill": {
     "duration": 0.044916,
     "end_time": "2024-05-16T14:18:30.854437",
     "exception": false,
     "start_time": "2024-05-16T14:18:30.809521",
     "status": "completed"
    },
    "tags": []
   },
   "outputs": [
    {
     "data": {
      "text/plain": [
       "Installs_category\n",
       "Low                   2162\n",
       "High                  2118\n",
       "Very High             2004\n",
       "More than moderate    1648\n",
       "Moderate              1531\n",
       "Top Notch              828\n",
       "Very low               535\n",
       "no                      15\n",
       "Name: count, dtype: int64"
      ]
     },
     "execution_count": 32,
     "metadata": {},
     "output_type": "execute_result"
    }
   ],
   "source": [
    "df['Installs_category'].value_counts()"
   ]
  },
  {
   "cell_type": "markdown",
   "id": "35b1e205",
   "metadata": {
    "papermill": {
     "duration": 0.029218,
     "end_time": "2024-05-16T14:18:30.913675",
     "exception": false,
     "start_time": "2024-05-16T14:18:30.884457",
     "status": "completed"
    },
    "tags": []
   },
   "source": [
    "# Now let see the Price Column "
   ]
  },
  {
   "cell_type": "code",
   "execution_count": 33,
   "id": "3ce08194",
   "metadata": {
    "execution": {
     "iopub.execute_input": "2024-05-16T14:18:30.974892Z",
     "iopub.status.busy": "2024-05-16T14:18:30.973857Z",
     "iopub.status.idle": "2024-05-16T14:18:30.982389Z",
     "shell.execute_reply": "2024-05-16T14:18:30.981497Z"
    },
    "papermill": {
     "duration": 0.041686,
     "end_time": "2024-05-16T14:18:30.984913",
     "exception": false,
     "start_time": "2024-05-16T14:18:30.943227",
     "status": "completed"
    },
    "tags": []
   },
   "outputs": [
    {
     "data": {
      "text/plain": [
       "array(['0', '$4.99', '$3.99', '$6.99', '$1.49', '$2.99', '$7.99', '$5.99',\n",
       "       '$3.49', '$1.99', '$9.99', '$7.49', '$0.99', '$9.00', '$5.49',\n",
       "       '$10.00', '$24.99', '$11.99', '$79.99', '$16.99', '$14.99',\n",
       "       '$1.00', '$29.99', '$12.99', '$2.49', '$10.99', '$1.50', '$19.99',\n",
       "       '$15.99', '$33.99', '$74.99', '$39.99', '$3.95', '$4.49', '$1.70',\n",
       "       '$8.99', '$2.00', '$3.88', '$25.99', '$399.99', '$17.99',\n",
       "       '$400.00', '$3.02', '$1.76', '$4.84', '$4.77', '$1.61', '$2.50',\n",
       "       '$1.59', '$6.49', '$1.29', '$5.00', '$13.99', '$299.99', '$379.99',\n",
       "       '$37.99', '$18.99', '$389.99', '$19.90', '$8.49', '$1.75',\n",
       "       '$14.00', '$4.85', '$46.99', '$109.99', '$154.99', '$3.08',\n",
       "       '$2.59', '$4.80', '$1.96', '$19.40', '$3.90', '$4.59', '$15.46',\n",
       "       '$3.04', '$4.29', '$2.60', '$3.28', '$4.60', '$28.99', '$2.95',\n",
       "       '$2.90', '$1.97', '$200.00', '$89.99', '$2.56', '$30.99', '$3.61',\n",
       "       '$394.99', '$1.26', '$1.20', '$1.04'], dtype=object)"
      ]
     },
     "execution_count": 33,
     "metadata": {},
     "output_type": "execute_result"
    }
   ],
   "source": [
    "# check the unique values in the 'Price' column\n",
    "df['Price'].unique()"
   ]
  },
  {
   "cell_type": "code",
   "execution_count": 34,
   "id": "8e2d7fc4",
   "metadata": {
    "execution": {
     "iopub.execute_input": "2024-05-16T14:18:31.049684Z",
     "iopub.status.busy": "2024-05-16T14:18:31.048318Z",
     "iopub.status.idle": "2024-05-16T14:18:31.058448Z",
     "shell.execute_reply": "2024-05-16T14:18:31.057046Z"
    },
    "papermill": {
     "duration": 0.046001,
     "end_time": "2024-05-16T14:18:31.061292",
     "exception": false,
     "start_time": "2024-05-16T14:18:31.015291",
     "status": "completed"
    },
    "tags": []
   },
   "outputs": [
    {
     "data": {
      "text/plain": [
       "0"
      ]
     },
     "execution_count": 34,
     "metadata": {},
     "output_type": "execute_result"
    }
   ],
   "source": [
    "df['Price'].isnull().sum()"
   ]
  },
  {
   "cell_type": "markdown",
   "id": "63ec408a",
   "metadata": {
    "papermill": {
     "duration": 0.030344,
     "end_time": "2024-05-16T14:18:31.121147",
     "exception": false,
     "start_time": "2024-05-16T14:18:31.090803",
     "status": "completed"
    },
    "tags": []
   },
   "source": [
    "- No Missing Values"
   ]
  },
  {
   "cell_type": "code",
   "execution_count": 35,
   "id": "f3cada4b",
   "metadata": {
    "execution": {
     "iopub.execute_input": "2024-05-16T14:18:31.183099Z",
     "iopub.status.busy": "2024-05-16T14:18:31.182690Z",
     "iopub.status.idle": "2024-05-16T14:18:31.199753Z",
     "shell.execute_reply": "2024-05-16T14:18:31.198114Z"
    },
    "papermill": {
     "duration": 0.051399,
     "end_time": "2024-05-16T14:18:31.202825",
     "exception": false,
     "start_time": "2024-05-16T14:18:31.151426",
     "status": "completed"
    },
    "tags": []
   },
   "outputs": [
    {
     "data": {
      "text/plain": [
       "Price\n",
       "0          10041\n",
       "$0.99        148\n",
       "$2.99        129\n",
       "$1.99         73\n",
       "$4.99         72\n",
       "$3.99         63\n",
       "$1.49         46\n",
       "$5.99         30\n",
       "$2.49         26\n",
       "$9.99         21\n",
       "$6.99         13\n",
       "$399.99       12\n",
       "$14.99        11\n",
       "$4.49          9\n",
       "$29.99         7\n",
       "$24.99         7\n",
       "$3.49          7\n",
       "$7.99          7\n",
       "$5.49          6\n",
       "$19.99         6\n",
       "$11.99         5\n",
       "$6.49          5\n",
       "$12.99         5\n",
       "$8.99          5\n",
       "$10.00         3\n",
       "$16.99         3\n",
       "$1.00          3\n",
       "$2.00          3\n",
       "$13.99         2\n",
       "$8.49          2\n",
       "$17.99         2\n",
       "$1.70          2\n",
       "$3.95          2\n",
       "$79.99         2\n",
       "$7.49          2\n",
       "$9.00          2\n",
       "$10.99         2\n",
       "$39.99         2\n",
       "$33.99         2\n",
       "$1.96          1\n",
       "$19.40         1\n",
       "$4.80          1\n",
       "$3.28          1\n",
       "$4.59          1\n",
       "$15.46         1\n",
       "$3.04          1\n",
       "$4.29          1\n",
       "$2.60          1\n",
       "$2.59          1\n",
       "$3.90          1\n",
       "$154.99        1\n",
       "$4.60          1\n",
       "$28.99         1\n",
       "$2.95          1\n",
       "$2.90          1\n",
       "$1.97          1\n",
       "$200.00        1\n",
       "$89.99         1\n",
       "$2.56          1\n",
       "$1.20          1\n",
       "$1.26          1\n",
       "$30.99         1\n",
       "$3.61          1\n",
       "$394.99        1\n",
       "$3.08          1\n",
       "$1.61          1\n",
       "$109.99        1\n",
       "$46.99         1\n",
       "$1.50          1\n",
       "$15.99         1\n",
       "$74.99         1\n",
       "$3.88          1\n",
       "$25.99         1\n",
       "$400.00        1\n",
       "$3.02          1\n",
       "$1.76          1\n",
       "$4.84          1\n",
       "$4.77          1\n",
       "$2.50          1\n",
       "$1.59          1\n",
       "$1.29          1\n",
       "$5.00          1\n",
       "$299.99        1\n",
       "$379.99        1\n",
       "$37.99         1\n",
       "$18.99         1\n",
       "$389.99        1\n",
       "$19.90         1\n",
       "$1.75          1\n",
       "$14.00         1\n",
       "$4.85          1\n",
       "$1.04          1\n",
       "Name: count, dtype: int64"
      ]
     },
     "execution_count": 35,
     "metadata": {},
     "output_type": "execute_result"
    }
   ],
   "source": [
    "df['Price'].value_counts()"
   ]
  },
  {
   "cell_type": "markdown",
   "id": "1e7bcdd1",
   "metadata": {
    "papermill": {
     "duration": 0.02944,
     "end_time": "2024-05-16T14:18:31.263505",
     "exception": false,
     "start_time": "2024-05-16T14:18:31.234065",
     "status": "completed"
    },
    "tags": []
   },
   "source": [
    "- We need to confirm if the values in the Price column are only with $ sign or not"
   ]
  },
  {
   "cell_type": "code",
   "execution_count": 36,
   "id": "542df11d",
   "metadata": {
    "execution": {
     "iopub.execute_input": "2024-05-16T14:18:31.325519Z",
     "iopub.status.busy": "2024-05-16T14:18:31.324160Z",
     "iopub.status.idle": "2024-05-16T14:18:31.340434Z",
     "shell.execute_reply": "2024-05-16T14:18:31.339254Z"
    },
    "papermill": {
     "duration": 0.049721,
     "end_time": "2024-05-16T14:18:31.342922",
     "exception": false,
     "start_time": "2024-05-16T14:18:31.293201",
     "status": "completed"
    },
    "tags": []
   },
   "outputs": [
    {
     "data": {
      "text/plain": [
       "800"
      ]
     },
     "execution_count": 36,
     "metadata": {},
     "output_type": "execute_result"
    }
   ],
   "source": [
    "# Let's see how many values have ($) sign\n",
    "df['Price'].loc[df['Price'].str.contains('\\$')].value_counts().sum()"
   ]
  },
  {
   "cell_type": "code",
   "execution_count": 37,
   "id": "2a32267c",
   "metadata": {
    "execution": {
     "iopub.execute_input": "2024-05-16T14:18:31.405012Z",
     "iopub.status.busy": "2024-05-16T14:18:31.404239Z",
     "iopub.status.idle": "2024-05-16T14:18:31.428152Z",
     "shell.execute_reply": "2024-05-16T14:18:31.426931Z"
    },
    "papermill": {
     "duration": 0.057833,
     "end_time": "2024-05-16T14:18:31.430659",
     "exception": false,
     "start_time": "2024-05-16T14:18:31.372826",
     "status": "completed"
    },
    "tags": []
   },
   "outputs": [
    {
     "data": {
      "text/plain": [
       "10041"
      ]
     },
     "execution_count": 37,
     "metadata": {},
     "output_type": "execute_result"
    }
   ],
   "source": [
    "# the 'Price' column which contains 0 but does not contain $ sign\n",
    "df['Price'].loc[(df['Price'].str.contains('0')) & (~df['Price'].str.contains('\\$'))].value_counts().sum()"
   ]
  },
  {
   "cell_type": "markdown",
   "id": "645d1230",
   "metadata": {
    "papermill": {
     "duration": 0.029488,
     "end_time": "2024-05-16T14:18:31.490004",
     "exception": false,
     "start_time": "2024-05-16T14:18:31.460516",
     "status": "completed"
    },
    "tags": []
   },
   "source": [
    "- Now we can confirm that the only currency used is $ in the Price column or 0 value, as 800+10041=10841 Total values\n",
    "\n",
    "- The only problem is $ sign let's remove it and convert the column into numeric data type."
   ]
  },
  {
   "cell_type": "code",
   "execution_count": 38,
   "id": "91388084",
   "metadata": {
    "execution": {
     "iopub.execute_input": "2024-05-16T14:18:31.552146Z",
     "iopub.status.busy": "2024-05-16T14:18:31.551525Z",
     "iopub.status.idle": "2024-05-16T14:18:31.568998Z",
     "shell.execute_reply": "2024-05-16T14:18:31.567970Z"
    },
    "papermill": {
     "duration": 0.051744,
     "end_time": "2024-05-16T14:18:31.571788",
     "exception": false,
     "start_time": "2024-05-16T14:18:31.520044",
     "status": "completed"
    },
    "tags": []
   },
   "outputs": [],
   "source": [
    "# remove the dollar sign from the price column and convert it to numeric\n",
    "df['Price'] = df['Price'].apply(lambda x: x.replace('$', '') if '$' in str(x) else x)\n",
    "# convert the price column to numeric (float because this is the price)\n",
    "df['Price'] = df['Price'].apply(lambda x: float(x))"
   ]
  },
  {
   "cell_type": "code",
   "execution_count": 39,
   "id": "defa5267",
   "metadata": {
    "execution": {
     "iopub.execute_input": "2024-05-16T14:18:31.635124Z",
     "iopub.status.busy": "2024-05-16T14:18:31.634485Z",
     "iopub.status.idle": "2024-05-16T14:18:31.641928Z",
     "shell.execute_reply": "2024-05-16T14:18:31.640704Z"
    },
    "papermill": {
     "duration": 0.041807,
     "end_time": "2024-05-16T14:18:31.644282",
     "exception": false,
     "start_time": "2024-05-16T14:18:31.602475",
     "status": "completed"
    },
    "tags": []
   },
   "outputs": [
    {
     "data": {
      "text/plain": [
       "dtype('float64')"
      ]
     },
     "execution_count": 39,
     "metadata": {},
     "output_type": "execute_result"
    }
   ],
   "source": [
    "df['Price'].dtype # this will show the data type of the column"
   ]
  },
  {
   "cell_type": "code",
   "execution_count": 40,
   "id": "7d7a7eea",
   "metadata": {
    "execution": {
     "iopub.execute_input": "2024-05-16T14:18:31.708643Z",
     "iopub.status.busy": "2024-05-16T14:18:31.707876Z",
     "iopub.status.idle": "2024-05-16T14:18:31.716333Z",
     "shell.execute_reply": "2024-05-16T14:18:31.714585Z"
    },
    "papermill": {
     "duration": 0.044291,
     "end_time": "2024-05-16T14:18:31.719056",
     "exception": false,
     "start_time": "2024-05-16T14:18:31.674765",
     "status": "completed"
    },
    "tags": []
   },
   "outputs": [
    {
     "name": "stdout",
     "output_type": "stream",
     "text": [
      "Min price is 0.0\n",
      "Max price is 400.0\n",
      "Average price is 1.0272733142699015\n"
     ]
    }
   ],
   "source": [
    "# Using f string print min, max and average price of app\n",
    "print(f\"Min price is {df['Price'].min()}\")\n",
    "print(f\"Max price is {df['Price'].max()}\")\n",
    "print(f\"Average price is {df['Price'].mean()}\")"
   ]
  },
  {
   "cell_type": "markdown",
   "id": "35e3e8ca",
   "metadata": {
    "papermill": {
     "duration": 0.031196,
     "end_time": "2024-05-16T14:18:31.781077",
     "exception": false,
     "start_time": "2024-05-16T14:18:31.749881",
     "status": "completed"
    },
    "tags": []
   },
   "source": [
    "## 2.1 Descriptive Statistics"
   ]
  },
  {
   "cell_type": "code",
   "execution_count": 41,
   "id": "cabe7139",
   "metadata": {
    "execution": {
     "iopub.execute_input": "2024-05-16T14:18:31.844741Z",
     "iopub.status.busy": "2024-05-16T14:18:31.844332Z",
     "iopub.status.idle": "2024-05-16T14:18:31.879382Z",
     "shell.execute_reply": "2024-05-16T14:18:31.878180Z"
    },
    "papermill": {
     "duration": 0.0704,
     "end_time": "2024-05-16T14:18:31.882326",
     "exception": false,
     "start_time": "2024-05-16T14:18:31.811926",
     "status": "completed"
    },
    "tags": []
   },
   "outputs": [
    {
     "data": {
      "text/html": [
       "<div>\n",
       "<style scoped>\n",
       "    .dataframe tbody tr th:only-of-type {\n",
       "        vertical-align: middle;\n",
       "    }\n",
       "\n",
       "    .dataframe tbody tr th {\n",
       "        vertical-align: top;\n",
       "    }\n",
       "\n",
       "    .dataframe thead th {\n",
       "        text-align: right;\n",
       "    }\n",
       "</style>\n",
       "<table border=\"1\" class=\"dataframe\">\n",
       "  <thead>\n",
       "    <tr style=\"text-align: right;\">\n",
       "      <th></th>\n",
       "      <th>Rating</th>\n",
       "      <th>Reviews</th>\n",
       "      <th>Size_in_bytes</th>\n",
       "      <th>Installs</th>\n",
       "      <th>Price</th>\n",
       "      <th>Size_in_Mb</th>\n",
       "    </tr>\n",
       "  </thead>\n",
       "  <tbody>\n",
       "    <tr>\n",
       "      <th>count</th>\n",
       "      <td>9367.000000</td>\n",
       "      <td>1.084100e+04</td>\n",
       "      <td>9.146000e+03</td>\n",
       "      <td>1.084100e+04</td>\n",
       "      <td>10841.000000</td>\n",
       "      <td>9146.000000</td>\n",
       "    </tr>\n",
       "    <tr>\n",
       "      <th>mean</th>\n",
       "      <td>4.191513</td>\n",
       "      <td>4.441119e+05</td>\n",
       "      <td>2.255921e+07</td>\n",
       "      <td>1.546291e+07</td>\n",
       "      <td>1.027273</td>\n",
       "      <td>21.514141</td>\n",
       "    </tr>\n",
       "    <tr>\n",
       "      <th>std</th>\n",
       "      <td>0.515735</td>\n",
       "      <td>2.927629e+06</td>\n",
       "      <td>2.368595e+07</td>\n",
       "      <td>8.502557e+07</td>\n",
       "      <td>15.948971</td>\n",
       "      <td>22.588679</td>\n",
       "    </tr>\n",
       "    <tr>\n",
       "      <th>min</th>\n",
       "      <td>1.000000</td>\n",
       "      <td>0.000000e+00</td>\n",
       "      <td>8.704000e+03</td>\n",
       "      <td>0.000000e+00</td>\n",
       "      <td>0.000000</td>\n",
       "      <td>0.008301</td>\n",
       "    </tr>\n",
       "    <tr>\n",
       "      <th>25%</th>\n",
       "      <td>4.000000</td>\n",
       "      <td>3.800000e+01</td>\n",
       "      <td>5.138022e+06</td>\n",
       "      <td>1.000000e+03</td>\n",
       "      <td>0.000000</td>\n",
       "      <td>4.900000</td>\n",
       "    </tr>\n",
       "    <tr>\n",
       "      <th>50%</th>\n",
       "      <td>4.300000</td>\n",
       "      <td>2.094000e+03</td>\n",
       "      <td>1.363149e+07</td>\n",
       "      <td>1.000000e+05</td>\n",
       "      <td>0.000000</td>\n",
       "      <td>13.000000</td>\n",
       "    </tr>\n",
       "    <tr>\n",
       "      <th>75%</th>\n",
       "      <td>4.500000</td>\n",
       "      <td>5.476800e+04</td>\n",
       "      <td>3.145728e+07</td>\n",
       "      <td>5.000000e+06</td>\n",
       "      <td>0.000000</td>\n",
       "      <td>30.000000</td>\n",
       "    </tr>\n",
       "    <tr>\n",
       "      <th>max</th>\n",
       "      <td>5.000000</td>\n",
       "      <td>7.815831e+07</td>\n",
       "      <td>1.048576e+08</td>\n",
       "      <td>1.000000e+09</td>\n",
       "      <td>400.000000</td>\n",
       "      <td>100.000000</td>\n",
       "    </tr>\n",
       "  </tbody>\n",
       "</table>\n",
       "</div>"
      ],
      "text/plain": [
       "            Rating       Reviews  Size_in_bytes      Installs         Price  \\\n",
       "count  9367.000000  1.084100e+04   9.146000e+03  1.084100e+04  10841.000000   \n",
       "mean      4.191513  4.441119e+05   2.255921e+07  1.546291e+07      1.027273   \n",
       "std       0.515735  2.927629e+06   2.368595e+07  8.502557e+07     15.948971   \n",
       "min       1.000000  0.000000e+00   8.704000e+03  0.000000e+00      0.000000   \n",
       "25%       4.000000  3.800000e+01   5.138022e+06  1.000000e+03      0.000000   \n",
       "50%       4.300000  2.094000e+03   1.363149e+07  1.000000e+05      0.000000   \n",
       "75%       4.500000  5.476800e+04   3.145728e+07  5.000000e+06      0.000000   \n",
       "max       5.000000  7.815831e+07   1.048576e+08  1.000000e+09    400.000000   \n",
       "\n",
       "        Size_in_Mb  \n",
       "count  9146.000000  \n",
       "mean     21.514141  \n",
       "std      22.588679  \n",
       "min       0.008301  \n",
       "25%       4.900000  \n",
       "50%      13.000000  \n",
       "75%      30.000000  \n",
       "max     100.000000  "
      ]
     },
     "execution_count": 41,
     "metadata": {},
     "output_type": "execute_result"
    }
   ],
   "source": [
    "df.describe()"
   ]
  },
  {
   "cell_type": "markdown",
   "id": "4cfc1a53",
   "metadata": {
    "papermill": {
     "duration": 0.031055,
     "end_time": "2024-05-16T14:18:31.945501",
     "exception": false,
     "start_time": "2024-05-16T14:18:31.914446",
     "status": "completed"
    },
    "tags": []
   },
   "source": [
    "## Observaion:\n",
    "- Now, we have only 6 columns as numeric data type.\n",
    "- We can observe their descriptive statistics. and make tons of observations as per our hypotheses.\n",
    "- We can see that the Rating column has a minimum value of 1 and a maximum value of 5, which is the range of rating, and the mean is 4.19 which is a good rating. On an average people give this rating.\n",
    "- We can see that the Reviews column has a minimum value of 0 and a maximum value of 78,158,306 78+ Millions, which is the range of reviews, and the mean is 444,111.93 which is a good number of reviews. On an average people give this number of reviews to the apps. But it does not make sense to us, as we have different categories of apps.\n",
    "- Similarly, we can observe the other columns as well.\n",
    "\n",
    "Therefore, the most important thing is to classify as app based on the correlation matrix and then observe the descriptive statistics of the app category and number of installs, reviews, ratings, etc."
   ]
  },
  {
   "cell_type": "markdown",
   "id": "a8ef0867",
   "metadata": {
    "papermill": {
     "duration": 0.030427,
     "end_time": "2024-05-16T14:18:32.007093",
     "exception": false,
     "start_time": "2024-05-16T14:18:31.976666",
     "status": "completed"
    },
    "tags": []
   },
   "source": [
    "## 2.2. Dealing with the missing values"
   ]
  },
  {
   "cell_type": "markdown",
   "id": "8043d287",
   "metadata": {
    "papermill": {
     "duration": 0.032262,
     "end_time": "2024-05-16T14:18:32.070047",
     "exception": false,
     "start_time": "2024-05-16T14:18:32.037785",
     "status": "completed"
    },
    "tags": []
   },
   "source": [
    "Dealing with the missing values is one of the most important part of the data wrangling process, we must deal with the missing values in order to get the correct insights from the data."
   ]
  },
  {
   "cell_type": "markdown",
   "id": "231428f8",
   "metadata": {
    "papermill": {
     "duration": 0.030374,
     "end_time": "2024-05-16T14:18:32.132127",
     "exception": false,
     "start_time": "2024-05-16T14:18:32.101753",
     "status": "completed"
    },
    "tags": []
   },
   "source": [
    "- Let's have a look on the missing values in the dataset"
   ]
  },
  {
   "cell_type": "code",
   "execution_count": 42,
   "id": "7bb4a7d0",
   "metadata": {
    "execution": {
     "iopub.execute_input": "2024-05-16T14:18:32.198151Z",
     "iopub.status.busy": "2024-05-16T14:18:32.196478Z",
     "iopub.status.idle": "2024-05-16T14:18:32.219055Z",
     "shell.execute_reply": "2024-05-16T14:18:32.217749Z"
    },
    "papermill": {
     "duration": 0.058744,
     "end_time": "2024-05-16T14:18:32.221646",
     "exception": false,
     "start_time": "2024-05-16T14:18:32.162902",
     "status": "completed"
    },
    "tags": []
   },
   "outputs": [
    {
     "data": {
      "text/plain": [
       "App                     0\n",
       "Category                1\n",
       "Rating               1474\n",
       "Reviews                 0\n",
       "Size_in_bytes        1695\n",
       "Installs                0\n",
       "Type                    1\n",
       "Price                   0\n",
       "Content Rating          0\n",
       "Genres                  1\n",
       "Last Updated            0\n",
       "Current Ver             8\n",
       "Android Ver             2\n",
       "Size_in_Mb           1695\n",
       "Installs_category       0\n",
       "dtype: int64"
      ]
     },
     "execution_count": 42,
     "metadata": {},
     "output_type": "execute_result"
    }
   ],
   "source": [
    "df.isnull().sum()"
   ]
  },
  {
   "cell_type": "code",
   "execution_count": 43,
   "id": "90402e3d",
   "metadata": {
    "execution": {
     "iopub.execute_input": "2024-05-16T14:18:32.286135Z",
     "iopub.status.busy": "2024-05-16T14:18:32.285747Z",
     "iopub.status.idle": "2024-05-16T14:18:32.307009Z",
     "shell.execute_reply": "2024-05-16T14:18:32.305237Z"
    },
    "papermill": {
     "duration": 0.056822,
     "end_time": "2024-05-16T14:18:32.309578",
     "exception": false,
     "start_time": "2024-05-16T14:18:32.252756",
     "status": "completed"
    },
    "tags": []
   },
   "outputs": [
    {
     "data": {
      "text/plain": [
       "Size_in_bytes        1695\n",
       "Size_in_Mb           1695\n",
       "Rating               1474\n",
       "Current Ver             8\n",
       "Android Ver             2\n",
       "Category                1\n",
       "Type                    1\n",
       "Genres                  1\n",
       "App                     0\n",
       "Reviews                 0\n",
       "Installs                0\n",
       "Price                   0\n",
       "Content Rating          0\n",
       "Last Updated            0\n",
       "Installs_category       0\n",
       "dtype: int64"
      ]
     },
     "execution_count": 43,
     "metadata": {},
     "output_type": "execute_result"
    }
   ],
   "source": [
    "df.isnull().sum().sort_values(ascending=False)"
   ]
  },
  {
   "cell_type": "code",
   "execution_count": 44,
   "id": "3a812929",
   "metadata": {
    "execution": {
     "iopub.execute_input": "2024-05-16T14:18:32.374994Z",
     "iopub.status.busy": "2024-05-16T14:18:32.373956Z",
     "iopub.status.idle": "2024-05-16T14:18:32.393348Z",
     "shell.execute_reply": "2024-05-16T14:18:32.392198Z"
    },
    "papermill": {
     "duration": 0.054688,
     "end_time": "2024-05-16T14:18:32.395976",
     "exception": false,
     "start_time": "2024-05-16T14:18:32.341288",
     "status": "completed"
    },
    "tags": []
   },
   "outputs": [
    {
     "data": {
      "text/plain": [
       "4877"
      ]
     },
     "execution_count": 44,
     "metadata": {},
     "output_type": "execute_result"
    }
   ],
   "source": [
    "df.isnull().sum().sum()"
   ]
  },
  {
   "cell_type": "code",
   "execution_count": 45,
   "id": "73ecdd0d",
   "metadata": {
    "execution": {
     "iopub.execute_input": "2024-05-16T14:18:32.460644Z",
     "iopub.status.busy": "2024-05-16T14:18:32.460193Z",
     "iopub.status.idle": "2024-05-16T14:18:32.482498Z",
     "shell.execute_reply": "2024-05-16T14:18:32.481273Z"
    },
    "papermill": {
     "duration": 0.058082,
     "end_time": "2024-05-16T14:18:32.485139",
     "exception": false,
     "start_time": "2024-05-16T14:18:32.427057",
     "status": "completed"
    },
    "tags": []
   },
   "outputs": [
    {
     "data": {
      "text/plain": [
       "Size_in_bytes        15.635089\n",
       "Size_in_Mb           15.635089\n",
       "Rating               13.596532\n",
       "Current Ver           0.073794\n",
       "Android Ver           0.018448\n",
       "Category              0.009224\n",
       "Type                  0.009224\n",
       "Genres                0.009224\n",
       "App                   0.000000\n",
       "Reviews               0.000000\n",
       "Installs              0.000000\n",
       "Price                 0.000000\n",
       "Content Rating        0.000000\n",
       "Last Updated          0.000000\n",
       "Installs_category     0.000000\n",
       "dtype: float64"
      ]
     },
     "execution_count": 45,
     "metadata": {},
     "output_type": "execute_result"
    }
   ],
   "source": [
    "(df.isnull().sum() / len(df) * 100).sort_values(ascending=False)"
   ]
  },
  {
   "cell_type": "markdown",
   "id": "a174a0fc",
   "metadata": {
    "papermill": {
     "duration": 0.031801,
     "end_time": "2024-05-16T14:18:32.549313",
     "exception": false,
     "start_time": "2024-05-16T14:18:32.517512",
     "status": "completed"
    },
    "tags": []
   },
   "source": [
    "- Let's plot the missing values in the dataset"
   ]
  },
  {
   "cell_type": "code",
   "execution_count": 46,
   "id": "e22f82e7",
   "metadata": {
    "execution": {
     "iopub.execute_input": "2024-05-16T14:18:32.618125Z",
     "iopub.status.busy": "2024-05-16T14:18:32.617679Z",
     "iopub.status.idle": "2024-05-16T14:18:33.287282Z",
     "shell.execute_reply": "2024-05-16T14:18:33.285944Z"
    },
    "papermill": {
     "duration": 0.709794,
     "end_time": "2024-05-16T14:18:33.292091",
     "exception": false,
     "start_time": "2024-05-16T14:18:32.582297",
     "status": "completed"
    },
    "tags": []
   },
   "outputs": [
    {
     "data": {
      "text/plain": [
       "<Axes: >"
      ]
     },
     "execution_count": 46,
     "metadata": {},
     "output_type": "execute_result"
    },
    {
     "data": {
      "image/png": "[encoded data removed]",
      "text/plain": [
       "<Figure size 1600x600 with 1 Axes>"
      ]
     },
     "metadata": {},
     "output_type": "display_data"
    }
   ],
   "source": [
    "# make a figure size\n",
    "plt.figure(figsize=(16, 6))\n",
    "#plot the null values in each column\n",
    "sns.heatmap(df.isnull(), yticklabels=False, cbar=False, cmap='viridis') "
   ]
  },
  {
   "cell_type": "code",
   "execution_count": 47,
   "id": "4edcf830",
   "metadata": {
    "execution": {
     "iopub.execute_input": "2024-05-16T14:18:33.360121Z",
     "iopub.status.busy": "2024-05-16T14:18:33.359722Z",
     "iopub.status.idle": "2024-05-16T14:18:33.881029Z",
     "shell.execute_reply": "2024-05-16T14:18:33.879721Z"
    },
    "papermill": {
     "duration": 0.55854,
     "end_time": "2024-05-16T14:18:33.884190",
     "exception": false,
     "start_time": "2024-05-16T14:18:33.325650",
     "status": "completed"
    },
    "tags": []
   },
   "outputs": [
    {
     "data": {
      "text/plain": [
       "Text(0.5, 1.0, 'Percentage of Missing Values in each Column')"
      ]
     },
     "execution_count": 47,
     "metadata": {},
     "output_type": "execute_result"
    },
    {
     "data": {
      "image/png": "[encoded data removed]",
      "text/plain": [
       "<Figure size 1600x600 with 1 Axes>"
      ]
     },
     "metadata": {},
     "output_type": "display_data"
    }
   ],
   "source": [
    "# make figure size\n",
    "plt.figure(figsize=(16, 6))\n",
    "# plot the null values by their percentage in each column\n",
    "missing_percentage = df.isnull().sum()/len(df)*100\n",
    "missing_percentage.plot(kind='bar')\n",
    "# add the labels\n",
    "plt.xlabel('Columns')\n",
    "plt.ylabel('Percentage')\n",
    "plt.title('Percentage of Missing Values in each Column')"
   ]
  },
  {
   "cell_type": "markdown",
   "id": "09f60a82",
   "metadata": {
    "papermill": {
     "duration": 0.035053,
     "end_time": "2024-05-16T14:18:33.954142",
     "exception": false,
     "start_time": "2024-05-16T14:18:33.919089",
     "status": "completed"
    },
    "tags": []
   },
   "source": [
    "- Let's plot the missing values other than 'Rating', 'Size_in_bytes' and 'Size_in_Mb' column\n",
    "- We have missing percentage columns other than rating having less than one percent of missing values, we will plot them as follows:"
   ]
  },
  {
   "cell_type": "code",
   "execution_count": 48,
   "id": "3ec2d8bf",
   "metadata": {
    "execution": {
     "iopub.execute_input": "2024-05-16T14:18:34.029088Z",
     "iopub.status.busy": "2024-05-16T14:18:34.028682Z",
     "iopub.status.idle": "2024-05-16T14:18:34.496326Z",
     "shell.execute_reply": "2024-05-16T14:18:34.495069Z"
    },
    "papermill": {
     "duration": 0.506286,
     "end_time": "2024-05-16T14:18:34.499176",
     "exception": false,
     "start_time": "2024-05-16T14:18:33.992890",
     "status": "completed"
    },
    "tags": []
   },
   "outputs": [
    {
     "data": {
      "text/plain": [
       "Text(0.5, 1.0, 'Percentage of Missing Values in each Column without Rating column')"
      ]
     },
     "execution_count": 48,
     "metadata": {},
     "output_type": "execute_result"
    },
    {
     "data": {
      "image/png": "[encoded data removed]",
      "text/plain": [
       "<Figure size 1600x600 with 1 Axes>"
      ]
     },
     "metadata": {},
     "output_type": "display_data"
    }
   ],
   "source": [
    "plt.figure(figsize=(16, 6)) # make figure size\n",
    "missing_percentage[missing_percentage < 1].plot(kind='bar') # plot the null values by their percentage in each column\n",
    "plt.xlabel('Columns') # add the x-axis labels\n",
    "plt.ylabel('Percentage') # add the labels for y-axis\n",
    "plt.title('Percentage of Missing Values in each Column without Rating column')"
   ]
  },
  {
   "cell_type": "markdown",
   "id": "f41148c0",
   "metadata": {
    "papermill": {
     "duration": 0.034435,
     "end_time": "2024-05-16T14:18:34.569086",
     "exception": false,
     "start_time": "2024-05-16T14:18:34.534651",
     "status": "completed"
    },
    "tags": []
   },
   "source": [
    "## Observation:\n",
    "- We have 1695 missing values in the 'Size_in_bytes' and 'Size_in_Mb' columns, which is 15.6% of the total values in the column.\n",
    "- We have 1474 missing values in the 'Rating' column, which is 13.6% of the total values in the column.\n",
    "- We have 8 missing value in the 'Current Ver' column, which is 0.07% of the total values in the column.\n",
    "- We have 2 missing values in the 'Android Ver' column, which is 0.01% of the total values in the column.\n",
    "- We have only 1 missing value in Category, Type and Genres columns, which is 0.009% of the total values in the column."
   ]
  },
  {
   "cell_type": "markdown",
   "id": "634d85aa",
   "metadata": {
    "papermill": {
     "duration": 0.03423,
     "end_time": "2024-05-16T14:18:34.638240",
     "exception": false,
     "start_time": "2024-05-16T14:18:34.604010",
     "status": "completed"
    },
    "tags": []
   },
   "source": [
    "# 2.3. Dealing with the missing values"
   ]
  },
  {
   "cell_type": "markdown",
   "id": "70f063b1",
   "metadata": {
    "papermill": {
     "duration": 0.03457,
     "end_time": "2024-05-16T14:18:34.706935",
     "exception": false,
     "start_time": "2024-05-16T14:18:34.672365",
     "status": "completed"
    },
    "tags": []
   },
   "source": [
    "- We can not impute the Rating column as is is directly linked with the installation column. To test this Hypothesis we need to plot the Rating column with the Installs and Size columns and statistically test it using pearson correlation test."
   ]
  },
  {
   "cell_type": "markdown",
   "id": "5f346640",
   "metadata": {
    "papermill": {
     "duration": 0.034969,
     "end_time": "2024-05-16T14:18:34.777043",
     "exception": false,
     "start_time": "2024-05-16T14:18:34.742074",
     "status": "completed"
    },
    "tags": []
   },
   "source": [
    "- Let's run the correlations"
   ]
  },
  {
   "cell_type": "code",
   "execution_count": 49,
   "id": "9df00b60",
   "metadata": {
    "execution": {
     "iopub.execute_input": "2024-05-16T14:18:34.848078Z",
     "iopub.status.busy": "2024-05-16T14:18:34.847379Z",
     "iopub.status.idle": "2024-05-16T14:18:34.881856Z",
     "shell.execute_reply": "2024-05-16T14:18:34.880608Z"
    },
    "papermill": {
     "duration": 0.07343,
     "end_time": "2024-05-16T14:18:34.884534",
     "exception": false,
     "start_time": "2024-05-16T14:18:34.811104",
     "status": "completed"
    },
    "tags": []
   },
   "outputs": [
    {
     "data": {
      "text/html": [
       "<div>\n",
       "<style scoped>\n",
       "    .dataframe tbody tr th:only-of-type {\n",
       "        vertical-align: middle;\n",
       "    }\n",
       "\n",
       "    .dataframe tbody tr th {\n",
       "        vertical-align: top;\n",
       "    }\n",
       "\n",
       "    .dataframe thead th {\n",
       "        text-align: right;\n",
       "    }\n",
       "</style>\n",
       "<table border=\"1\" class=\"dataframe\">\n",
       "  <thead>\n",
       "    <tr style=\"text-align: right;\">\n",
       "      <th></th>\n",
       "      <th>Rating</th>\n",
       "      <th>Reviews</th>\n",
       "      <th>Size_in_bytes</th>\n",
       "      <th>Installs</th>\n",
       "      <th>Price</th>\n",
       "      <th>Size_in_Mb</th>\n",
       "    </tr>\n",
       "  </thead>\n",
       "  <tbody>\n",
       "    <tr>\n",
       "      <th>count</th>\n",
       "      <td>9367.000000</td>\n",
       "      <td>1.084100e+04</td>\n",
       "      <td>9.146000e+03</td>\n",
       "      <td>1.084100e+04</td>\n",
       "      <td>10841.000000</td>\n",
       "      <td>9146.000000</td>\n",
       "    </tr>\n",
       "    <tr>\n",
       "      <th>mean</th>\n",
       "      <td>4.191513</td>\n",
       "      <td>4.441119e+05</td>\n",
       "      <td>2.255921e+07</td>\n",
       "      <td>1.546291e+07</td>\n",
       "      <td>1.027273</td>\n",
       "      <td>21.514141</td>\n",
       "    </tr>\n",
       "    <tr>\n",
       "      <th>std</th>\n",
       "      <td>0.515735</td>\n",
       "      <td>2.927629e+06</td>\n",
       "      <td>2.368595e+07</td>\n",
       "      <td>8.502557e+07</td>\n",
       "      <td>15.948971</td>\n",
       "      <td>22.588679</td>\n",
       "    </tr>\n",
       "    <tr>\n",
       "      <th>min</th>\n",
       "      <td>1.000000</td>\n",
       "      <td>0.000000e+00</td>\n",
       "      <td>8.704000e+03</td>\n",
       "      <td>0.000000e+00</td>\n",
       "      <td>0.000000</td>\n",
       "      <td>0.008301</td>\n",
       "    </tr>\n",
       "    <tr>\n",
       "      <th>25%</th>\n",
       "      <td>4.000000</td>\n",
       "      <td>3.800000e+01</td>\n",
       "      <td>5.138022e+06</td>\n",
       "      <td>1.000000e+03</td>\n",
       "      <td>0.000000</td>\n",
       "      <td>4.900000</td>\n",
       "    </tr>\n",
       "    <tr>\n",
       "      <th>50%</th>\n",
       "      <td>4.300000</td>\n",
       "      <td>2.094000e+03</td>\n",
       "      <td>1.363149e+07</td>\n",
       "      <td>1.000000e+05</td>\n",
       "      <td>0.000000</td>\n",
       "      <td>13.000000</td>\n",
       "    </tr>\n",
       "    <tr>\n",
       "      <th>75%</th>\n",
       "      <td>4.500000</td>\n",
       "      <td>5.476800e+04</td>\n",
       "      <td>3.145728e+07</td>\n",
       "      <td>5.000000e+06</td>\n",
       "      <td>0.000000</td>\n",
       "      <td>30.000000</td>\n",
       "    </tr>\n",
       "    <tr>\n",
       "      <th>max</th>\n",
       "      <td>5.000000</td>\n",
       "      <td>7.815831e+07</td>\n",
       "      <td>1.048576e+08</td>\n",
       "      <td>1.000000e+09</td>\n",
       "      <td>400.000000</td>\n",
       "      <td>100.000000</td>\n",
       "    </tr>\n",
       "  </tbody>\n",
       "</table>\n",
       "</div>"
      ],
      "text/plain": [
       "            Rating       Reviews  Size_in_bytes      Installs         Price  \\\n",
       "count  9367.000000  1.084100e+04   9.146000e+03  1.084100e+04  10841.000000   \n",
       "mean      4.191513  4.441119e+05   2.255921e+07  1.546291e+07      1.027273   \n",
       "std       0.515735  2.927629e+06   2.368595e+07  8.502557e+07     15.948971   \n",
       "min       1.000000  0.000000e+00   8.704000e+03  0.000000e+00      0.000000   \n",
       "25%       4.000000  3.800000e+01   5.138022e+06  1.000000e+03      0.000000   \n",
       "50%       4.300000  2.094000e+03   1.363149e+07  1.000000e+05      0.000000   \n",
       "75%       4.500000  5.476800e+04   3.145728e+07  5.000000e+06      0.000000   \n",
       "max       5.000000  7.815831e+07   1.048576e+08  1.000000e+09    400.000000   \n",
       "\n",
       "        Size_in_Mb  \n",
       "count  9146.000000  \n",
       "mean     21.514141  \n",
       "std      22.588679  \n",
       "min       0.008301  \n",
       "25%       4.900000  \n",
       "50%      13.000000  \n",
       "75%      30.000000  \n",
       "max     100.000000  "
      ]
     },
     "execution_count": 49,
     "metadata": {},
     "output_type": "execute_result"
    }
   ],
   "source": [
    "df.describe()"
   ]
  },
  {
   "cell_type": "code",
   "execution_count": 50,
   "id": "774624ee",
   "metadata": {
    "execution": {
     "iopub.execute_input": "2024-05-16T14:18:34.957917Z",
     "iopub.status.busy": "2024-05-16T14:18:34.956998Z",
     "iopub.status.idle": "2024-05-16T14:18:35.529933Z",
     "shell.execute_reply": "2024-05-16T14:18:35.528167Z"
    },
    "papermill": {
     "duration": 0.611902,
     "end_time": "2024-05-16T14:18:35.532837",
     "exception": false,
     "start_time": "2024-05-16T14:18:34.920935",
     "status": "completed"
    },
    "tags": []
   },
   "outputs": [
    {
     "data": {
      "text/plain": [
       "<Axes: >"
      ]
     },
     "execution_count": 50,
     "metadata": {},
     "output_type": "execute_result"
    },
    {
     "data": {
      "image/png": "[encoded data removed]",
      "text/plain": [
       "<Figure size 1600x1000 with 2 Axes>"
      ]
     },
     "metadata": {},
     "output_type": "display_data"
    }
   ],
   "source": [
    "# Make a correlation matrix of numeric columns\n",
    "plt.figure(figsize=(16, 10)) # make figure size  \n",
    "numeric_cols = ['Rating', 'Reviews', 'Size_in_bytes', 'Installs', 'Price', 'Size_in_Mb'] # make a list of numeric columns\n",
    "sns.heatmap(df[numeric_cols].corr(), annot=True) # plot the correlation matrix"
   ]
  },
  {
   "cell_type": "code",
   "execution_count": 51,
   "id": "e95ad298",
   "metadata": {
    "execution": {
     "iopub.execute_input": "2024-05-16T14:18:35.607604Z",
     "iopub.status.busy": "2024-05-16T14:18:35.606368Z",
     "iopub.status.idle": "2024-05-16T14:18:35.625037Z",
     "shell.execute_reply": "2024-05-16T14:18:35.624078Z"
    },
    "papermill": {
     "duration": 0.058411,
     "end_time": "2024-05-16T14:18:35.627492",
     "exception": false,
     "start_time": "2024-05-16T14:18:35.569081",
     "status": "completed"
    },
    "tags": []
   },
   "outputs": [
    {
     "data": {
      "text/html": [
       "<div>\n",
       "<style scoped>\n",
       "    .dataframe tbody tr th:only-of-type {\n",
       "        vertical-align: middle;\n",
       "    }\n",
       "\n",
       "    .dataframe tbody tr th {\n",
       "        vertical-align: top;\n",
       "    }\n",
       "\n",
       "    .dataframe thead th {\n",
       "        text-align: right;\n",
       "    }\n",
       "</style>\n",
       "<table border=\"1\" class=\"dataframe\">\n",
       "  <thead>\n",
       "    <tr style=\"text-align: right;\">\n",
       "      <th></th>\n",
       "      <th>Rating</th>\n",
       "      <th>Reviews</th>\n",
       "      <th>Size_in_bytes</th>\n",
       "      <th>Installs</th>\n",
       "      <th>Price</th>\n",
       "      <th>Size_in_Mb</th>\n",
       "    </tr>\n",
       "  </thead>\n",
       "  <tbody>\n",
       "    <tr>\n",
       "      <th>Rating</th>\n",
       "      <td>1.000000</td>\n",
       "      <td>0.068147</td>\n",
       "      <td>0.084098</td>\n",
       "      <td>0.051393</td>\n",
       "      <td>-0.021851</td>\n",
       "      <td>0.084098</td>\n",
       "    </tr>\n",
       "    <tr>\n",
       "      <th>Reviews</th>\n",
       "      <td>0.068147</td>\n",
       "      <td>1.000000</td>\n",
       "      <td>0.238218</td>\n",
       "      <td>0.643123</td>\n",
       "      <td>-0.009666</td>\n",
       "      <td>0.238218</td>\n",
       "    </tr>\n",
       "    <tr>\n",
       "      <th>Size_in_bytes</th>\n",
       "      <td>0.084098</td>\n",
       "      <td>0.238218</td>\n",
       "      <td>1.000000</td>\n",
       "      <td>0.164794</td>\n",
       "      <td>-0.023000</td>\n",
       "      <td>1.000000</td>\n",
       "    </tr>\n",
       "    <tr>\n",
       "      <th>Installs</th>\n",
       "      <td>0.051393</td>\n",
       "      <td>0.643123</td>\n",
       "      <td>0.164794</td>\n",
       "      <td>1.000000</td>\n",
       "      <td>-0.011688</td>\n",
       "      <td>0.164794</td>\n",
       "    </tr>\n",
       "    <tr>\n",
       "      <th>Price</th>\n",
       "      <td>-0.021851</td>\n",
       "      <td>-0.009666</td>\n",
       "      <td>-0.023000</td>\n",
       "      <td>-0.011688</td>\n",
       "      <td>1.000000</td>\n",
       "      <td>-0.023000</td>\n",
       "    </tr>\n",
       "    <tr>\n",
       "      <th>Size_in_Mb</th>\n",
       "      <td>0.084098</td>\n",
       "      <td>0.238218</td>\n",
       "      <td>1.000000</td>\n",
       "      <td>0.164794</td>\n",
       "      <td>-0.023000</td>\n",
       "      <td>1.000000</td>\n",
       "    </tr>\n",
       "  </tbody>\n",
       "</table>\n",
       "</div>"
      ],
      "text/plain": [
       "                 Rating   Reviews  Size_in_bytes  Installs     Price  \\\n",
       "Rating         1.000000  0.068147       0.084098  0.051393 -0.021851   \n",
       "Reviews        0.068147  1.000000       0.238218  0.643123 -0.009666   \n",
       "Size_in_bytes  0.084098  0.238218       1.000000  0.164794 -0.023000   \n",
       "Installs       0.051393  0.643123       0.164794  1.000000 -0.011688   \n",
       "Price         -0.021851 -0.009666      -0.023000 -0.011688  1.000000   \n",
       "Size_in_Mb     0.084098  0.238218       1.000000  0.164794 -0.023000   \n",
       "\n",
       "               Size_in_Mb  \n",
       "Rating           0.084098  \n",
       "Reviews          0.238218  \n",
       "Size_in_bytes    1.000000  \n",
       "Installs         0.164794  \n",
       "Price           -0.023000  \n",
       "Size_in_Mb       1.000000  "
      ]
     },
     "execution_count": 51,
     "metadata": {},
     "output_type": "execute_result"
    }
   ],
   "source": [
    "# we can also calculate the correlation matrix using pandas\n",
    "df[numeric_cols].corr()"
   ]
  },
  {
   "cell_type": "code",
   "execution_count": 52,
   "id": "aaceca53",
   "metadata": {
    "execution": {
     "iopub.execute_input": "2024-05-16T14:18:35.703473Z",
     "iopub.status.busy": "2024-05-16T14:18:35.702718Z",
     "iopub.status.idle": "2024-05-16T14:18:35.725947Z",
     "shell.execute_reply": "2024-05-16T14:18:35.724172Z"
    },
    "papermill": {
     "duration": 0.064395,
     "end_time": "2024-05-16T14:18:35.728830",
     "exception": false,
     "start_time": "2024-05-16T14:18:35.664435",
     "status": "completed"
    },
    "tags": []
   },
   "outputs": [
    {
     "name": "stdout",
     "output_type": "stream",
     "text": [
      "Pearson's R between Reviews and Installs: 0.6262\n"
     ]
    }
   ],
   "source": [
    "# we can calculate the pearson correlation coefficient using scipy as well as follows\n",
    "\n",
    "# this is to install scipy if you have not done it before\n",
    "# pip install scipy \n",
    "from scipy import stats\n",
    "\n",
    "# remove rows containing NaN or infinite values (Important to calculate Pearson's R)\n",
    "df_clean = df.dropna()\n",
    "\n",
    "# calculate Pearson's R between Rating and Installs\n",
    "pearson_r, _ = stats.pearsonr(df_clean['Reviews'], df_clean['Installs'])\n",
    "print(f\"Pearson's R between Reviews and Installs: {pearson_r:.4f}\")"
   ]
  },
  {
   "cell_type": "markdown",
   "id": "f80ab70a",
   "metadata": {
    "papermill": {
     "duration": 0.036952,
     "end_time": "2024-05-16T14:18:35.803603",
     "exception": false,
     "start_time": "2024-05-16T14:18:35.766651",
     "status": "completed"
    },
    "tags": []
   },
   "source": [
    "## Observation:\n",
    "- Lighter color shows the high correlation and darker color shows the low correlation\n",
    "- We can see that the Reviews column has a high correlation with the Installs column, which is 0.64 according to corr(). Which is quite good.\n",
    "     - This shows that the more the reviews the more the installs are for one app. If in any case we need to impute reviews we have to think of number of install.\n",
    "     - If we have an ap with 2 installs and we imputer the reviews with 1000 or via average reviews then it will be wrong.\n",
    "- Installs is slightly correlated with Size_in_Mb or Size_in_bytes , which is 0.16, this also shows us the importance of size and Installs. But we can not depend on it as the Peason correlation is very low."
   ]
  }
 ],
 "metadata": {
  "kaggle": {
   "accelerator": "none",
   "dataSources": [
    {
     "datasetId": 5020359,
     "sourceId": 8430277,
     "sourceType": "datasetVersion"
    }
   ],
   "isGpuEnabled": false,
   "isInternetEnabled": true,
   "language": "python",
   "sourceType": "notebook"
  },
  "kernelspec": {
   "display_name": "Python 3",
   "language": "python",
   "name": "python3"
  },
  "language_info": {
   "codemirror_mode": {
    "name": "ipython",
    "version": 3
   },
   "file_extension": ".py",
   "mimetype": "text/x-python",
   "name": "python",
   "nbconvert_exporter": "python",
   "pygments_lexer": "ipython3",
   "version": "3.10.13"
  },
  "papermill": {
   "default_parameters": {},
   "duration": 16.161258,
   "end_time": "2024-05-16T14:18:36.565667",
   "environment_variables": {},
   "exception": null,
   "input_path": "__notebook__.ipynb",
   "output_path": "__notebook__.ipynb",
   "parameters": {},
   "start_time": "2024-05-16T14:18:20.404409",
   "version": "2.5.0"
  }
 },
 "nbformat": 4,
 "nbformat_minor": 5
}
